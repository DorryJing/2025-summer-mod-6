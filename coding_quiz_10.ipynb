{
 "cells": [
  {
   "cell_type": "code",
   "execution_count": 5,
   "id": "3d817a77",
   "metadata": {},
   "outputs": [],
   "source": [
    "import pandas as pd\n",
    "import numpy as np\n",
    "import statsmodels.api as sm"
   ]
  },
  {
   "cell_type": "code",
   "execution_count": 3,
   "id": "aef47327",
   "metadata": {},
   "outputs": [
    {
     "data": {
      "text/html": [
       "<div>\n",
       "<style scoped>\n",
       "    .dataframe tbody tr th:only-of-type {\n",
       "        vertical-align: middle;\n",
       "    }\n",
       "\n",
       "    .dataframe tbody tr th {\n",
       "        vertical-align: top;\n",
       "    }\n",
       "\n",
       "    .dataframe thead th {\n",
       "        text-align: right;\n",
       "    }\n",
       "</style>\n",
       "<table border=\"1\" class=\"dataframe\">\n",
       "  <thead>\n",
       "    <tr style=\"text-align: right;\">\n",
       "      <th></th>\n",
       "      <th>Unnamed: 0</th>\n",
       "      <th>city</th>\n",
       "      <th>time</th>\n",
       "      <th>X</th>\n",
       "      <th>y</th>\n",
       "    </tr>\n",
       "  </thead>\n",
       "  <tbody>\n",
       "    <tr>\n",
       "      <th>0</th>\n",
       "      <td>0</td>\n",
       "      <td>0</td>\n",
       "      <td>0</td>\n",
       "      <td>0.144044</td>\n",
       "      <td>7.552716</td>\n",
       "    </tr>\n",
       "    <tr>\n",
       "      <th>1</th>\n",
       "      <td>1</td>\n",
       "      <td>0</td>\n",
       "      <td>1</td>\n",
       "      <td>1.454274</td>\n",
       "      <td>10.077829</td>\n",
       "    </tr>\n",
       "    <tr>\n",
       "      <th>2</th>\n",
       "      <td>2</td>\n",
       "      <td>0</td>\n",
       "      <td>2</td>\n",
       "      <td>0.761038</td>\n",
       "      <td>12.372731</td>\n",
       "    </tr>\n",
       "    <tr>\n",
       "      <th>3</th>\n",
       "      <td>3</td>\n",
       "      <td>0</td>\n",
       "      <td>3</td>\n",
       "      <td>0.121675</td>\n",
       "      <td>11.489263</td>\n",
       "    </tr>\n",
       "    <tr>\n",
       "      <th>4</th>\n",
       "      <td>4</td>\n",
       "      <td>0</td>\n",
       "      <td>4</td>\n",
       "      <td>0.443863</td>\n",
       "      <td>13.104833</td>\n",
       "    </tr>\n",
       "  </tbody>\n",
       "</table>\n",
       "</div>"
      ],
      "text/plain": [
       "   Unnamed: 0  city  time         X          y\n",
       "0           0     0     0  0.144044   7.552716\n",
       "1           1     0     1  1.454274  10.077829\n",
       "2           2     0     2  0.761038  12.372731\n",
       "3           3     0     3  0.121675  11.489263\n",
       "4           4     0     4  0.443863  13.104833"
      ]
     },
     "execution_count": 3,
     "metadata": {},
     "output_type": "execute_result"
    }
   ],
   "source": [
    "df = pd.read_csv(\"homework_10.1.csv\")\n",
    "df.head(5)"
   ]
  },
  {
   "cell_type": "code",
   "execution_count": null,
   "id": "1eb1ddce",
   "metadata": {},
   "outputs": [
    {
     "name": "stdout",
     "output_type": "stream",
     "text": [
      "month_0     2.560534\n",
      "month_1     4.812815\n",
      "month_2     6.364951\n",
      "month_3     7.179399\n",
      "month_4     8.053076\n",
      "month_5     9.122903\n",
      "month_6     8.750663\n",
      "month_7     8.316077\n",
      "month_8     8.075793\n",
      "month_9     7.815888\n",
      "month_10    5.521175\n",
      "month_11    4.492188\n",
      "dtype: float64\n"
     ]
    }
   ],
   "source": [
    "# q1\n",
    "dummies = pd.get_dummies(df[\"time\"], prefix=\"month\")\n",
    "X = dummies\n",
    "y = df[\"y\"]\n",
    "\n",
    "model = sm.OLS(y, X).fit()\n",
    "print(model.params)"
   ]
  },
  {
   "cell_type": "code",
   "execution_count": 7,
   "id": "9635de4e",
   "metadata": {},
   "outputs": [
    {
     "name": "stdout",
     "output_type": "stream",
     "text": [
      "city_0    10.871199\n",
      "city_1     5.315071\n",
      "city_2     7.929660\n",
      "city_3    12.874989\n",
      "city_4    10.636539\n",
      "city_5    -0.147974\n",
      "city_6     7.979322\n",
      "city_7     3.192338\n",
      "city_8     3.369064\n",
      "city_9     5.534343\n",
      "dtype: float64\n"
     ]
    }
   ],
   "source": [
    "# q2\n",
    "dummies = pd.get_dummies(df[\"city\"], prefix=\"city\")\n",
    "X = dummies\n",
    "y = df[\"y\"]\n",
    "\n",
    "model = sm.OLS(y, X).fit()\n",
    "print(model.params)"
   ]
  },
  {
   "cell_type": "code",
   "execution_count": null,
   "id": "122299a1",
   "metadata": {},
   "outputs": [
    {
     "name": "stdout",
     "output_type": "stream",
     "text": [
      "                            OLS Regression Results                            \n",
      "==============================================================================\n",
      "Dep. Variable:                      y   R-squared:                       0.030\n",
      "Model:                            OLS   Adj. R-squared:                  0.030\n",
      "Method:                 Least Squares   F-statistic:                     1564.\n",
      "Date:                Wed, 16 Jul 2025   Prob (F-statistic):               0.00\n",
      "Time:                        22:40:27   Log-Likelihood:            -3.9976e+05\n",
      "No. Observations:              100000   AIC:                         7.995e+05\n",
      "Df Residuals:                   99997   BIC:                         7.995e+05\n",
      "Df Model:                           2                                         \n",
      "Covariance Type:            nonrobust                                         \n",
      "==============================================================================\n",
      "                 coef    std err          t      P>|t|      [0.025      0.975]\n",
      "------------------------------------------------------------------------------\n",
      "const         -0.1544      0.183     -0.845      0.398      -0.513       0.204\n",
      "x1             1.6279      0.042     38.850      0.000       1.546       1.710\n",
      "x2             1.6882      0.042     40.348      0.000       1.606       1.770\n",
      "==============================================================================\n",
      "Omnibus:                   129443.683   Durbin-Watson:                   1.997\n",
      "Prob(Omnibus):                  0.000   Jarque-Bera (JB):         66480335.188\n",
      "Skew:                           6.865   Prob(JB):                         0.00\n",
      "Kurtosis:                     128.566   Cond. No.                         20.1\n",
      "==============================================================================\n",
      "\n",
      "Notes:\n",
      "[1] Standard Errors assume that the covariance matrix of the errors is correctly specified.\n"
     ]
    }
   ],
   "source": [
    "num = 10000\n",
    "\n",
    "X = np.clip(np.random.normal(3, 1, (num,)), 0.01, 100)\n",
    "\n",
    "Z = np.clip(np.random.normal(3, 1, (num,)), 0.01, 100)\n",
    "\n",
    "Y = np.log(X + Z) + np.random.normal(0, 1, (num,)) \n",
    "Y_exp = np.exp(Y)\n",
    "#q3\n",
    "X = np.column_stack([X, Z])\n",
    "X = sm.add_constant(X)\n",
    "model = sm.OLS(Y_exp, X).fit()\n",
    "\n",
    "print(model.summary())"
   ]
  },
  {
   "cell_type": "code",
   "execution_count": 31,
   "id": "2541b86a",
   "metadata": {},
   "outputs": [
    {
     "name": "stdout",
     "output_type": "stream",
     "text": [
      "i se = 0.034588504973208783\n",
      "ii std = 0.06348839192951991\n"
     ]
    }
   ],
   "source": [
    "# q4\n",
    "num = 10000 \n",
    "estimates = []\n",
    "reported_se = []\n",
    "\n",
    "for _ in range(100):\n",
    "    Z = np.random.normal(0, 1, (num,)) \n",
    "\n",
    "    X = Z + np.random.normal(0, 1, (num,)) \n",
    "\n",
    "    Y = 1.5 * X + 2.3 * Z + np.random.normal(0, X**2, (num,)) \n",
    "\n",
    "    XZ = np.column_stack([X, Z])\n",
    "    XZ = sm.add_constant(XZ)\n",
    "    model = sm.OLS(Y, XZ).fit()\n",
    "\n",
    "    estimates.append(model.params[1])\n",
    "    reported_se.append(model.bse[1])\n",
    "\n",
    "# i std by python\n",
    "mean_reported_se = np.mean(reported_se)\n",
    "# ii std\n",
    "actual_std = np.std(estimates)\n",
    "\n",
    "print(f\"i se = {mean_reported_se}\")\n",
    "print(f\"ii std = {actual_std}\")"
   ]
  }
 ],
 "metadata": {
  "kernelspec": {
   "display_name": "Python 3",
   "language": "python",
   "name": "python3"
  },
  "language_info": {
   "codemirror_mode": {
    "name": "ipython",
    "version": 3
   },
   "file_extension": ".py",
   "mimetype": "text/x-python",
   "name": "python",
   "nbconvert_exporter": "python",
   "pygments_lexer": "ipython3",
   "version": "3.12.1"
  }
 },
 "nbformat": 4,
 "nbformat_minor": 5
}
