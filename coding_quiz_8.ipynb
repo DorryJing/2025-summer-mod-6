{
 "cells": [
  {
   "cell_type": "code",
   "execution_count": 1,
   "id": "fbcfafe4",
   "metadata": {},
   "outputs": [],
   "source": [
    "import pandas as pd\n",
    "import numpy as np\n",
    "from sklearn.linear_model import LogisticRegression"
   ]
  },
  {
   "cell_type": "code",
   "execution_count": 2,
   "id": "47b8f717",
   "metadata": {},
   "outputs": [
    {
     "data": {
      "text/html": [
       "<div>\n",
       "<style scoped>\n",
       "    .dataframe tbody tr th:only-of-type {\n",
       "        vertical-align: middle;\n",
       "    }\n",
       "\n",
       "    .dataframe tbody tr th {\n",
       "        vertical-align: top;\n",
       "    }\n",
       "\n",
       "    .dataframe thead th {\n",
       "        text-align: right;\n",
       "    }\n",
       "</style>\n",
       "<table border=\"1\" class=\"dataframe\">\n",
       "  <thead>\n",
       "    <tr style=\"text-align: right;\">\n",
       "      <th></th>\n",
       "      <th>Unnamed: 0</th>\n",
       "      <th>X</th>\n",
       "      <th>Y</th>\n",
       "      <th>Z</th>\n",
       "    </tr>\n",
       "  </thead>\n",
       "  <tbody>\n",
       "    <tr>\n",
       "      <th>0</th>\n",
       "      <td>0</td>\n",
       "      <td>1</td>\n",
       "      <td>4.109218</td>\n",
       "      <td>1.764052</td>\n",
       "    </tr>\n",
       "    <tr>\n",
       "      <th>1</th>\n",
       "      <td>1</td>\n",
       "      <td>0</td>\n",
       "      <td>2.259504</td>\n",
       "      <td>0.400157</td>\n",
       "    </tr>\n",
       "    <tr>\n",
       "      <th>2</th>\n",
       "      <td>2</td>\n",
       "      <td>0</td>\n",
       "      <td>-0.647584</td>\n",
       "      <td>0.978738</td>\n",
       "    </tr>\n",
       "    <tr>\n",
       "      <th>3</th>\n",
       "      <td>3</td>\n",
       "      <td>0</td>\n",
       "      <td>2.106071</td>\n",
       "      <td>2.240893</td>\n",
       "    </tr>\n",
       "    <tr>\n",
       "      <th>4</th>\n",
       "      <td>4</td>\n",
       "      <td>1</td>\n",
       "      <td>3.583464</td>\n",
       "      <td>1.867558</td>\n",
       "    </tr>\n",
       "  </tbody>\n",
       "</table>\n",
       "</div>"
      ],
      "text/plain": [
       "   Unnamed: 0  X         Y         Z\n",
       "0           0  1  4.109218  1.764052\n",
       "1           1  0  2.259504  0.400157\n",
       "2           2  0 -0.647584  0.978738\n",
       "3           3  0  2.106071  2.240893\n",
       "4           4  1  3.583464  1.867558"
      ]
     },
     "execution_count": 2,
     "metadata": {},
     "output_type": "execute_result"
    }
   ],
   "source": [
    "df_1 = pd.read_csv(\"homework_8.1.csv\")\n",
    "df_1.head(5)"
   ]
  },
  {
   "cell_type": "code",
   "execution_count": 7,
   "id": "cbcd1c6e",
   "metadata": {},
   "outputs": [
    {
     "name": "stdout",
     "output_type": "stream",
     "text": [
      "ATE is 2.2743411898510133\n"
     ]
    }
   ],
   "source": [
    "# Extract variables\n",
    "X_treatment = df_1[\"X\"]\n",
    "Y_outcome = df_1[\"Y\"]\n",
    "Z_covariate = df_1[[\"Z\"]]\n",
    "\n",
    "# Fit logistic regression to estimate propensity scores\n",
    "log_reg = LogisticRegression()\n",
    "log_reg.fit(Z_covariate, X_treatment)\n",
    "\n",
    "# Predict propensity scores\n",
    "propensity_scores = log_reg.predict_proba(Z_covariate)[:,1]\n",
    "\n",
    "# Compute inverse probability weights\n",
    "weights = np.where(\n",
    "    X_treatment == 1,\n",
    "    1 / propensity_scores,\n",
    "    1 / (1 - propensity_scores)\n",
    ")\n",
    "\n",
    "# Compute weighted mean outcomes for treated and untreated\n",
    "treated_mask = X_treatment == 1\n",
    "untreated_mask = X_treatment == 0\n",
    "\n",
    "# Weighted mean Y for treated\n",
    "mean_Y_treated = np.sum(Y_outcome[treated_mask] * weights[treated_mask]) / np.sum(weights[treated_mask])\n",
    "mean_Y_untreated = np.sum(Y_outcome[untreated_mask] * weights[untreated_mask]) / np.sum(weights[untreated_mask])\n",
    "\n",
    "# Caluculate ATE\n",
    "ATE = mean_Y_treated - mean_Y_untreated\n",
    "print(f\"ATE is {ATE}\")"
   ]
  },
  {
   "cell_type": "code",
   "execution_count": 8,
   "id": "e9d5be70",
   "metadata": {},
   "outputs": [
    {
     "data": {
      "text/plain": [
       "array([0.84011371, 0.58464597, 0.71108245])"
      ]
     },
     "execution_count": 8,
     "metadata": {},
     "output_type": "execute_result"
    }
   ],
   "source": [
    "propensity_scores[:3]"
   ]
  },
  {
   "cell_type": "code",
   "execution_count": 9,
   "id": "07cad39f",
   "metadata": {},
   "outputs": [
    {
     "data": {
      "text/html": [
       "<div>\n",
       "<style scoped>\n",
       "    .dataframe tbody tr th:only-of-type {\n",
       "        vertical-align: middle;\n",
       "    }\n",
       "\n",
       "    .dataframe tbody tr th {\n",
       "        vertical-align: top;\n",
       "    }\n",
       "\n",
       "    .dataframe thead th {\n",
       "        text-align: right;\n",
       "    }\n",
       "</style>\n",
       "<table border=\"1\" class=\"dataframe\">\n",
       "  <thead>\n",
       "    <tr style=\"text-align: right;\">\n",
       "      <th></th>\n",
       "      <th>Unnamed: 0</th>\n",
       "      <th>X</th>\n",
       "      <th>Y</th>\n",
       "      <th>Z1</th>\n",
       "      <th>Z2</th>\n",
       "    </tr>\n",
       "  </thead>\n",
       "  <tbody>\n",
       "    <tr>\n",
       "      <th>0</th>\n",
       "      <td>0</td>\n",
       "      <td>1</td>\n",
       "      <td>4.652085</td>\n",
       "      <td>1.764052</td>\n",
       "      <td>2.320015</td>\n",
       "    </tr>\n",
       "    <tr>\n",
       "      <th>1</th>\n",
       "      <td>1</td>\n",
       "      <td>1</td>\n",
       "      <td>2.590221</td>\n",
       "      <td>0.400157</td>\n",
       "      <td>1.292631</td>\n",
       "    </tr>\n",
       "    <tr>\n",
       "      <th>2</th>\n",
       "      <td>2</td>\n",
       "      <td>1</td>\n",
       "      <td>3.898981</td>\n",
       "      <td>0.978738</td>\n",
       "      <td>0.556423</td>\n",
       "    </tr>\n",
       "    <tr>\n",
       "      <th>3</th>\n",
       "      <td>3</td>\n",
       "      <td>1</td>\n",
       "      <td>5.857179</td>\n",
       "      <td>2.240893</td>\n",
       "      <td>2.345607</td>\n",
       "    </tr>\n",
       "    <tr>\n",
       "      <th>4</th>\n",
       "      <td>4</td>\n",
       "      <td>1</td>\n",
       "      <td>3.647489</td>\n",
       "      <td>1.867558</td>\n",
       "      <td>2.095611</td>\n",
       "    </tr>\n",
       "  </tbody>\n",
       "</table>\n",
       "</div>"
      ],
      "text/plain": [
       "   Unnamed: 0  X         Y        Z1        Z2\n",
       "0           0  1  4.652085  1.764052  2.320015\n",
       "1           1  1  2.590221  0.400157  1.292631\n",
       "2           2  1  3.898981  0.978738  0.556423\n",
       "3           3  1  5.857179  2.240893  2.345607\n",
       "4           4  1  3.647489  1.867558  2.095611"
      ]
     },
     "execution_count": 9,
     "metadata": {},
     "output_type": "execute_result"
    }
   ],
   "source": [
    "df_2 = pd.read_csv(\"homework_8.2.csv\")\n",
    "df_2.head(5)"
   ]
  },
  {
   "cell_type": "code",
   "execution_count": 11,
   "id": "cbf18f37",
   "metadata": {},
   "outputs": [],
   "source": [
    "from scipy.spatial import distance"
   ]
  },
  {
   "cell_type": "code",
   "execution_count": null,
   "id": "cfe7c61e",
   "metadata": {},
   "outputs": [
    {
     "name": "stdout",
     "output_type": "stream",
     "text": [
      "ATE is 3.4376789979126094\n"
     ]
    }
   ],
   "source": [
    "# Separate treated and untreated group\n",
    "treated = df_2[df_2[\"X\"] == 1].reset_index(drop=True)\n",
    "untreated = df_2[df_2[\"X\"] == 0].reset_index(drop=True)\n",
    "\n",
    "# Z matrices\n",
    "Z_treated = treated[[\"Z1\", \"Z2\"]].values\n",
    "Z_untreated = untreated[[\"Z1\", \"Z2\"]].values\n",
    "\n",
    "# Covariance and inverse covariance\n",
    "Z_all = df_2[[\"Z1\", \"Z2\"]].values\n",
    "cov_matrix = np.cov(Z_all, rowvar=False)\n",
    "inv_cov_matrix = np.linalg.inv(cov_matrix)\n",
    "\n",
    "# compute all pairwise Mahalanobis distances\n",
    "dists_matrix = distance.cdist(Z_treated, Z_untreated, metric='mahalanobis', VI=inv_cov_matrix)\n",
    "\n",
    "# For each treated , get the index of the nearest untreated\n",
    "nearest_indices = np.argmin(dists_matrix, axis=1)\n",
    "\n",
    "# Outcomes\n",
    "Y_treated = treated[\"Y\"].values\n",
    "Y_untreated_matched = untreated.iloc[nearest_indices][\"Y\"].values\n",
    "\n",
    "# Compute ATE\n",
    "ATE = np.mean(Y_treated - Y_untreated_matched)\n",
    "\n",
    "print(f\"ATE is {ATE}\")"
   ]
  },
  {
   "cell_type": "code",
   "execution_count": null,
   "id": "53c17cc5",
   "metadata": {},
   "outputs": [
    {
     "data": {
      "text/plain": [
       "(array([2.69622405, 0.53815549]), array([ 1.51999486, -1.28220794]))"
      ]
     },
     "execution_count": 14,
     "metadata": {},
     "output_type": "execute_result"
    }
   ],
   "source": [
    "# Find the maximum minimum distance \n",
    "\n",
    "# For each treated observation, get the minimum distance to any untreated\n",
    "min_dists_per_treated = np.min(dists_matrix, axis=1)\n",
    "\n",
    "# Index of the treated observation with the largest of these minimum distances\n",
    "idx_least_common_support = np.argmax(min_dists_per_treated)\n",
    "\n",
    "# Get the Z1 and Z2 of this treated observation\n",
    "z1_z2_farthest_treated = Z_treated[idx_least_common_support]\n",
    "\n",
    "# Also find the Z1 and Z2 of its nearest untreated match\n",
    "nearest_idx_for_farthest = nearest_indices[idx_least_common_support]\n",
    "z1_z2_nearest_untreated = Z_untreated[nearest_idx_for_farthest]\n",
    "\n",
    "(z1_z2_farthest_treated, z1_z2_nearest_untreated)"
   ]
  }
 ],
 "metadata": {
  "kernelspec": {
   "display_name": "Python 3",
   "language": "python",
   "name": "python3"
  },
  "language_info": {
   "codemirror_mode": {
    "name": "ipython",
    "version": 3
   },
   "file_extension": ".py",
   "mimetype": "text/x-python",
   "name": "python",
   "nbconvert_exporter": "python",
   "pygments_lexer": "ipython3",
   "version": "3.12.1"
  }
 },
 "nbformat": 4,
 "nbformat_minor": 5
}
