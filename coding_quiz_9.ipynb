{
 "cells": [
  {
   "cell_type": "code",
   "execution_count": 1,
   "id": "0dbd9360",
   "metadata": {},
   "outputs": [],
   "source": [
    "import numpy as np\n",
    "import statsmodels.api as sm\n",
    "from scipy.stats import skew"
   ]
  },
  {
   "cell_type": "code",
   "execution_count": 2,
   "id": "8a4b88c3",
   "metadata": {},
   "outputs": [],
   "source": [
    "def simulate(A=1, B=1, C=10, D=1000):\n",
    "  W = np.random.normal(0,1,D)\n",
    "  X = W+np.random.normal(0,B,D)\n",
    "  Y = A*X-W+np.random.normal(0,C,D)\n",
    "  return Y, X, W"
   ]
  },
  {
   "cell_type": "code",
   "execution_count": 3,
   "id": "f1f9f8fd",
   "metadata": {},
   "outputs": [
    {
     "data": {
      "text/plain": [
       "0.878"
      ]
     },
     "execution_count": 3,
     "metadata": {},
     "output_type": "execute_result"
    }
   ],
   "source": [
    "nums = 1000\n",
    "count_significant = 0\n",
    "\n",
    "for _ in range(nums):\n",
    "    Y, X, W = simulate()\n",
    "\n",
    "    predictors = np.column_stack((X, W))\n",
    "    predictors = sm.add_constant(predictors)\n",
    "\n",
    "    model = sm.OLS(Y, predictors).fit()\n",
    "\n",
    "    t_X = model.tvalues[1]\n",
    "\n",
    "    if abs(t_X) > 1.96:\n",
    "        count_significant += 1\n",
    "\n",
    "power = count_significant / nums\n",
    "\n",
    "power"
   ]
  },
  {
   "cell_type": "code",
   "execution_count": 4,
   "id": "6a9427b2",
   "metadata": {},
   "outputs": [
    {
     "data": {
      "text/plain": [
       "np.float64(-0.01512426443969821)"
      ]
     },
     "execution_count": 4,
     "metadata": {},
     "output_type": "execute_result"
    }
   ],
   "source": [
    "np.random.seed(42)\n",
    "nums = 10000\n",
    "coefs_X = []\n",
    "\n",
    "for _ in range(nums):\n",
    "    Y, X, W = simulate()\n",
    "\n",
    "    predictors = np.column_stack((X, W))\n",
    "    predictors = sm.add_constant(predictors)\n",
    "\n",
    "    model = sm.OLS(Y, predictors).fit()\n",
    "\n",
    "    coef_X = model.params[1]\n",
    "    coefs_X.append(coef_X)\n",
    "\n",
    "skew_value = skew(coefs_X)\n",
    "skew_value"
   ]
  },
  {
   "cell_type": "code",
   "execution_count": 5,
   "id": "18553d35",
   "metadata": {},
   "outputs": [
    {
     "name": "stdout",
     "output_type": "stream",
     "text": [
      "B = 0.2: Estimated power = 0.115\n",
      "B = 0.6: Estimated power = 0.469\n",
      "B = 1.0: Estimated power = 0.899\n",
      "B = 1.8: Estimated power = 0.999\n",
      "B = 2.5: Estimated power = 1.0\n",
      "B = 5.4: Estimated power = 1.0\n"
     ]
    }
   ],
   "source": [
    "B_values = [0.2, 0.6, 1.0, 1.8, 2.5, 5.4]\n",
    "\n",
    "np.random.seed(42)\n",
    "nums = 1000\n",
    "result = {}\n",
    "\n",
    "for B in B_values:\n",
    "    count_significant = 0\n",
    "\n",
    "    for _ in range(nums):\n",
    "        Y, X, W = simulate(A=1, B=B, C=10, D=1000)\n",
    "        predictors = np.column_stack((X, W))\n",
    "        predictors = sm.add_constant(predictors)\n",
    "\n",
    "        model = sm.OLS(Y, predictors).fit()\n",
    "        t_X = model.tvalues[1]\n",
    "\n",
    "        if abs(t_X) > 1.96:\n",
    "            count_significant += 1\n",
    "        \n",
    "    power = count_significant / nums\n",
    "    result[B] = power\n",
    "\n",
    "for B, power in result.items():\n",
    "    print(f\"B = {B}: Estimated power = {power}\")"
   ]
  },
  {
   "cell_type": "code",
   "execution_count": 6,
   "id": "f98dbef7",
   "metadata": {},
   "outputs": [
    {
     "name": "stdout",
     "output_type": "stream",
     "text": [
      "A = 0.5: Estimated power = 0.083\n",
      "A = 1.0: Estimated power = 0.162\n",
      "A = 2.0: Estimated power = 0.513\n",
      "A = 4.0: Estimated power = 0.977\n"
     ]
    }
   ],
   "source": [
    "A_values = [0.5, 1.0, 2.0, 4.0]\n",
    "np.random.seed(42)\n",
    "nums = 1000\n",
    "result = {}\n",
    "for A in A_values:\n",
    "    count_significant = 0\n",
    "    for _ in range(nums):\n",
    "        Y, X, W = simulate(A=A, B=1, C=10, D=100)\n",
    "        predictors = np.column_stack((X, W))\n",
    "        predictors = sm.add_constant(predictors)\n",
    "\n",
    "        model = sm.OLS(Y, predictors).fit()\n",
    "        t_X = model.tvalues[1]\n",
    "\n",
    "        if abs(t_X) > 1.96:\n",
    "            count_significant += 1\n",
    "    power = count_significant / nums\n",
    "    result[A] = power\n",
    "    \n",
    "for A, power in result.items():\n",
    "    print(f\"A = {A}: Estimated power = {power}\")"
   ]
  },
  {
   "cell_type": "code",
   "execution_count": 9,
   "id": "ab3f8321",
   "metadata": {},
   "outputs": [
    {
     "name": "stdout",
     "output_type": "stream",
     "text": [
      "Emmpirical standard deviation of coefficients: 0.1705\n",
      "OLS standard error from statsmodels:0.1654\n"
     ]
    }
   ],
   "source": [
    "# reflection q1\n",
    "import statsmodels.api as sm\n",
    "import matplotlib.pyplot as plt\n",
    "\n",
    "np.random.seed(42)\n",
    "n_sim = 1000\n",
    "n = 100\n",
    "\n",
    "beta_true = 2.0\n",
    "empirical_betas = []\n",
    "\n",
    "for _ in range(n_sim):\n",
    "    X = np.random.uniform(0, 5, n)\n",
    "    # Heteroskedastic error\n",
    "    error = np.random.normal(0, 1 + 0.5 * X, n)\n",
    "    y = beta_true * X + error\n",
    "\n",
    "    X_sm = sm.add_constant(X)\n",
    "    model = sm.OLS(y, X_sm).fit()\n",
    "    empirical_betas.append(model.params[1])\n",
    "\n",
    "# emiprical standard deviation of beta\n",
    "emp_std = np.std(empirical_betas)\n",
    "print(f\"Emmpirical standard deviation of coefficients: {emp_std:.4f}\")\n",
    "\n",
    "# OLS standrad error form a single run\n",
    "X = np.random.uniform(0, 5, n)\n",
    "error = np.random.normal(0, 1 + 0.5 * X, n)\n",
    "y = beta_true * X + error\n",
    "X_sm = sm.add_constant(X)\n",
    "model = sm.OLS(y, X_sm).fit()\n",
    "ols_std = model.bse[1]\n",
    "print(f\"OLS standard error from statsmodels:{ols_std:.4f}\")\n"
   ]
  },
  {
   "cell_type": "code",
   "execution_count": 11,
   "id": "9923a9ca",
   "metadata": {},
   "outputs": [
    {
     "name": "stdout",
     "output_type": "stream",
     "text": [
      "Empirical standard deviation(true SD): 0.2038\n",
      "OLS standard error:0.1776\n",
      "Bootstrap standard error(naive): 0.1807\n"
     ]
    },
    {
     "data": {
      "image/png": "[encoded data removed]",
      "text/plain": [
       "<Figure size 640x480 with 1 Axes>"
      ]
     },
     "metadata": {},
     "output_type": "display_data"
    }
   ],
   "source": [
    "#reflection 2\n",
    "np.random.seed(0)\n",
    "n_sim = 1000\n",
    "n = 100\n",
    "rho = 0.9\n",
    "\n",
    "beta_true = 2.0\n",
    "empirical_betas = []\n",
    "\n",
    "def generate_errors(n, rho):\n",
    "    errors = np.zeros(n)\n",
    "    eta = np.random.normal(0, 1, n)\n",
    "    for t in range(1, n):\n",
    "        errors[t] = rho * errors[t-1] + eta[t]\n",
    "    return errors\n",
    "\n",
    "for _ in range(n_sim):\n",
    "    X = np.random.normal(0, 1, n)\n",
    "    errors = generate_errors(n, rho)\n",
    "    y = beta_true * X + errors\n",
    "    X_sm = sm.add_constant(X)\n",
    "    model = sm.OLS(y, X_sm).fit()\n",
    "    empirical_betas.append(model.params[1])\n",
    "\n",
    "emp_std = np.std(empirical_betas)\n",
    "print(f\"Empirical standard deviation(true SD): {emp_std:.4f}\")\n",
    "\n",
    "#single run get OLS and bootstrap SE\n",
    "X = np.random.normal(0, 1, n)\n",
    "errors = generate_errors(n, rho)\n",
    "y = beta_true * X + errors\n",
    "X_sm = sm.add_constant(X)\n",
    "model = sm.OLS(y, X_sm).fit()\n",
    "ols_se = model.bse[1]\n",
    "print(f\"OLS standard error:{ols_se:.4f}\")\n",
    "\n",
    "#bootstrap standard error\n",
    "n_boot = 500\n",
    "boot_betas = []\n",
    "residuals = model.resid\n",
    "for _ in range(n_boot):\n",
    "    resample_idx = np.random.choice(np.arange(n), n, replace = True)\n",
    "    y_boot = model.fittedvalues + residuals[resample_idx]\n",
    "    boot_model = sm.OLS(y_boot, X_sm).fit()\n",
    "    boot_betas.append(boot_model.params[1])\n",
    "boot_se = np.std(boot_betas)\n",
    "print(f\"Bootstrap standard error(naive): {boot_se:.4f}\")\n",
    "\n",
    "plt.hist(empirical_betas, bins=30, alpha=0.7, label=\"Simulated Betas\")\n",
    "plt.axvline(beta_true, color='red', linestyle = \"--\", label=\"True Beta\")\n",
    "plt.title(\"Distribution of Estimated Beta with Correlated Errors\")\n",
    "plt.xlabel(\"Estimated Beta\")\n",
    "plt.ylabel(\"Frequency\")\n",
    "plt.legend()\n",
    "plt.show()"
   ]
  }
 ],
 "metadata": {
  "kernelspec": {
   "display_name": "Python 3",
   "language": "python",
   "name": "python3"
  },
  "language_info": {
   "codemirror_mode": {
    "name": "ipython",
    "version": 3
   },
   "file_extension": ".py",
   "mimetype": "text/x-python",
   "name": "python",
   "nbconvert_exporter": "python",
   "pygments_lexer": "ipython3",
   "version": "3.12.1"
  }
 },
 "nbformat": 4,
 "nbformat_minor": 5
}
