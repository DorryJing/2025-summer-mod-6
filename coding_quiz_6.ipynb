{
 "cells": [
  {
   "cell_type": "code",
   "execution_count": 1,
   "id": "b11ac88c",
   "metadata": {},
   "outputs": [],
   "source": [
    "import pandas as pd\n",
    "import numpy as np\n",
    "from sklearn.neighbors import NearestNeighbors"
   ]
  },
  {
   "cell_type": "code",
   "execution_count": 2,
   "id": "233792dd",
   "metadata": {},
   "outputs": [
    {
     "data": {
      "text/html": [
       "<div>\n",
       "<style scoped>\n",
       "    .dataframe tbody tr th:only-of-type {\n",
       "        vertical-align: middle;\n",
       "    }\n",
       "\n",
       "    .dataframe tbody tr th {\n",
       "        vertical-align: top;\n",
       "    }\n",
       "\n",
       "    .dataframe thead th {\n",
       "        text-align: right;\n",
       "    }\n",
       "</style>\n",
       "<table border=\"1\" class=\"dataframe\">\n",
       "  <thead>\n",
       "    <tr style=\"text-align: right;\">\n",
       "      <th></th>\n",
       "      <th>Unnamed: 0</th>\n",
       "      <th>Z</th>\n",
       "      <th>X</th>\n",
       "      <th>Y</th>\n",
       "    </tr>\n",
       "  </thead>\n",
       "  <tbody>\n",
       "    <tr>\n",
       "      <th>0</th>\n",
       "      <td>0</td>\n",
       "      <td>0.548814</td>\n",
       "      <td>0</td>\n",
       "      <td>-0.823220</td>\n",
       "    </tr>\n",
       "    <tr>\n",
       "      <th>1</th>\n",
       "      <td>1</td>\n",
       "      <td>0.715189</td>\n",
       "      <td>1</td>\n",
       "      <td>0.842405</td>\n",
       "    </tr>\n",
       "    <tr>\n",
       "      <th>2</th>\n",
       "      <td>2</td>\n",
       "      <td>0.602763</td>\n",
       "      <td>1</td>\n",
       "      <td>0.898618</td>\n",
       "    </tr>\n",
       "    <tr>\n",
       "      <th>3</th>\n",
       "      <td>3</td>\n",
       "      <td>0.544883</td>\n",
       "      <td>0</td>\n",
       "      <td>-0.817325</td>\n",
       "    </tr>\n",
       "    <tr>\n",
       "      <th>4</th>\n",
       "      <td>4</td>\n",
       "      <td>0.423655</td>\n",
       "      <td>0</td>\n",
       "      <td>-0.635482</td>\n",
       "    </tr>\n",
       "  </tbody>\n",
       "</table>\n",
       "</div>"
      ],
      "text/plain": [
       "   Unnamed: 0         Z  X         Y\n",
       "0           0  0.548814  0 -0.823220\n",
       "1           1  0.715189  1  0.842405\n",
       "2           2  0.602763  1  0.898618\n",
       "3           3  0.544883  0 -0.817325\n",
       "4           4  0.423655  0 -0.635482"
      ]
     },
     "execution_count": 2,
     "metadata": {},
     "output_type": "execute_result"
    }
   ],
   "source": [
    "df = pd.read_csv(\"homework_6.1.csv\")\n",
    "df.head(5)"
   ]
  },
  {
   "cell_type": "code",
   "execution_count": 3,
   "id": "ea494a3c",
   "metadata": {},
   "outputs": [
    {
     "name": "stdout",
     "output_type": "stream",
     "text": [
      "Average Treatment Effect (ATE): 1.6953\n",
      "Average Treatment Effect on the Treated (ATT): 1.8464\n",
      "Average Treatment Effect on the Untreated (ATU): 1.5495\n",
      "Marginal Treatment Effect (MTE): 2.1725\n"
     ]
    }
   ],
   "source": [
    "df = df.drop(columns=['Unnamed: 0'])\n",
    "\n",
    "treated = df[df['X'] == 1].reset_index(drop=True)\n",
    "untreated = df[df['X'] == 0].reset_index(drop=True)\n",
    "\n",
    "nn = NearestNeighbors(n_neighbors=1)\n",
    "nn.fit(untreated[['Z']])\n",
    "\n",
    "distances, indices = nn.kneighbors(treated[['Z']])\n",
    "treated_counterfactual_Y = untreated.loc[indices[:,0], 'Y'].values\n",
    "treated_Y = treated['Y'].values\n",
    "\n",
    "treatment_effects_treated = treated_Y - treated_counterfactual_Y\n",
    "\n",
    "att = np.mean(treatment_effects_treated)\n",
    "\n",
    "nn.fit(treated[['Z']])\n",
    "distances_u, indices_u = nn.kneighbors(untreated[['Z']])\n",
    "untreated_counterfactual_Y = treated.loc[indices_u[:,0], 'Y'].values\n",
    "untreated_Y = untreated['Y'].values\n",
    "\n",
    "treatment_effects_untreated = untreated_counterfactual_Y - untreated_Y\n",
    "\n",
    "atu = np.mean(treatment_effects_untreated)\n",
    "\n",
    "ate = np.mean(np.concatenate([treatment_effects_treated, treatment_effects_untreated]))\n",
    "\n",
    "\n",
    "mte = np.max(treatment_effects_untreated)\n",
    "\n",
    "\n",
    "print(f\"Average Treatment Effect (ATE): {ate:.4f}\")\n",
    "print(f\"Average Treatment Effect on the Treated (ATT): {att:.4f}\")\n",
    "print(f\"Average Treatment Effect on the Untreated (ATU): {atu:.4f}\")\n",
    "print(f\"Marginal Treatment Effect (MTE): {mte:.4f}\")"
   ]
  },
  {
   "cell_type": "code",
   "execution_count": 4,
   "id": "5047f637",
   "metadata": {},
   "outputs": [
    {
     "name": "stdout",
     "output_type": "stream",
     "text": [
      "Using the average Top 5% value to calculate stable MTE :2.0800267465477855\n"
     ]
    },
    {
     "ename": "NameError",
     "evalue": "name 'MTE' is not defined",
     "output_type": "error",
     "traceback": [
      "\u001b[31m---------------------------------------------------------------------------\u001b[39m",
      "\u001b[31mNameError\u001b[39m                                 Traceback (most recent call last)",
      "\u001b[36mCell\u001b[39m\u001b[36m \u001b[39m\u001b[32mIn[4]\u001b[39m\u001b[32m, line 21\u001b[39m\n\u001b[32m     18\u001b[39m stable_mte_5 = np.mean(top_5_effects)\n\u001b[32m     20\u001b[39m \u001b[38;5;28mprint\u001b[39m(\u001b[33mf\u001b[39m\u001b[33m\"\u001b[39m\u001b[33mUsing the average Top 5% value to calculate stable MTE :\u001b[39m\u001b[38;5;132;01m{\u001b[39;00mstable_mte_5\u001b[38;5;132;01m}\u001b[39;00m\u001b[33m\"\u001b[39m)\n\u001b[32m---> \u001b[39m\u001b[32m21\u001b[39m \u001b[38;5;28mprint\u001b[39m(\u001b[33mf\u001b[39m\u001b[33m\"\u001b[39m\u001b[33mMTE: \u001b[39m\u001b[38;5;132;01m{\u001b[39;00m\u001b[43mMTE\u001b[49m\u001b[38;5;132;01m:\u001b[39;00m\u001b[33m.4f\u001b[39m\u001b[38;5;132;01m}\u001b[39;00m\u001b[33m\"\u001b[39m)\n",
      "\u001b[31mNameError\u001b[39m: name 'MTE' is not defined"
     ]
    }
   ],
   "source": [
    "df = pd.read_csv(\"homework_6.1.csv\")\n",
    "treated = df[df['X'] == 1].reset_index(drop=True)\n",
    "untreated = df[df['X'] == 0].reset_index(drop=True)\n",
    "# Match untreated to treated using Z\n",
    "Z_untreated = untreated[['Z']]\n",
    "Z_treated = treated[['Z']]\n",
    "nn = NearestNeighbors(n_neighbors=1).fit(Z_treated)\n",
    "_, idx = nn.kneighbors(Z_untreated)\n",
    "\n",
    "# Compute treatment effects\n",
    "Y_untreated = untreated['Y'].values\n",
    "Y_matched_treated = treated.loc[idx.flatten(), 'Y'].values\n",
    "effects = Y_matched_treated - Y_untreated\n",
    "\n",
    "# Use top 5% of effects\n",
    "top_5_count = max(1, int(len(effects) * 0.05))\n",
    "top_5_effects = np.sort(effects)[-top_5_count:]\n",
    "stable_mte_5 = np.mean(top_5_effects)\n",
    "\n",
    "print(f\"Using the average Top 5% value to calculate stable MTE :{stable_mte_5}\")\n",
    "print(f\"MTE: {MTE:.4f}\")"
   ]
  }
 ],
 "metadata": {
  "kernelspec": {
   "display_name": "Python 3",
   "language": "python",
   "name": "python3"
  },
  "language_info": {
   "codemirror_mode": {
    "name": "ipython",
    "version": 3
   },
   "file_extension": ".py",
   "mimetype": "text/x-python",
   "name": "python",
   "nbconvert_exporter": "python",
   "pygments_lexer": "ipython3",
   "version": "3.12.1"
  }
 },
 "nbformat": 4,
 "nbformat_minor": 5
}
