{
 "cells": [
  {
   "cell_type": "code",
   "execution_count": 2,
   "id": "b11ac88c",
   "metadata": {},
   "outputs": [],
   "source": [
    "import pandas as pd\n",
    "import numpy as np\n",
    "from sklearn.neighbors import NearestNeighbors"
   ]
  },
  {
   "cell_type": "code",
   "execution_count": 3,
   "id": "233792dd",
   "metadata": {},
   "outputs": [
    {
     "data": {
      "text/html": [
       "<div>\n",
       "<style scoped>\n",
       "    .dataframe tbody tr th:only-of-type {\n",
       "        vertical-align: middle;\n",
       "    }\n",
       "\n",
       "    .dataframe tbody tr th {\n",
       "        vertical-align: top;\n",
       "    }\n",
       "\n",
       "    .dataframe thead th {\n",
       "        text-align: right;\n",
       "    }\n",
       "</style>\n",
       "<table border=\"1\" class=\"dataframe\">\n",
       "  <thead>\n",
       "    <tr style=\"text-align: right;\">\n",
       "      <th></th>\n",
       "      <th>Unnamed: 0</th>\n",
       "      <th>Z</th>\n",
       "      <th>X</th>\n",
       "      <th>Y</th>\n",
       "    </tr>\n",
       "  </thead>\n",
       "  <tbody>\n",
       "    <tr>\n",
       "      <th>0</th>\n",
       "      <td>0</td>\n",
       "      <td>0.548814</td>\n",
       "      <td>0</td>\n",
       "      <td>-0.823220</td>\n",
       "    </tr>\n",
       "    <tr>\n",
       "      <th>1</th>\n",
       "      <td>1</td>\n",
       "      <td>0.715189</td>\n",
       "      <td>1</td>\n",
       "      <td>0.842405</td>\n",
       "    </tr>\n",
       "    <tr>\n",
       "      <th>2</th>\n",
       "      <td>2</td>\n",
       "      <td>0.602763</td>\n",
       "      <td>1</td>\n",
       "      <td>0.898618</td>\n",
       "    </tr>\n",
       "    <tr>\n",
       "      <th>3</th>\n",
       "      <td>3</td>\n",
       "      <td>0.544883</td>\n",
       "      <td>0</td>\n",
       "      <td>-0.817325</td>\n",
       "    </tr>\n",
       "    <tr>\n",
       "      <th>4</th>\n",
       "      <td>4</td>\n",
       "      <td>0.423655</td>\n",
       "      <td>0</td>\n",
       "      <td>-0.635482</td>\n",
       "    </tr>\n",
       "  </tbody>\n",
       "</table>\n",
       "</div>"
      ],
      "text/plain": [
       "   Unnamed: 0         Z  X         Y\n",
       "0           0  0.548814  0 -0.823220\n",
       "1           1  0.715189  1  0.842405\n",
       "2           2  0.602763  1  0.898618\n",
       "3           3  0.544883  0 -0.817325\n",
       "4           4  0.423655  0 -0.635482"
      ]
     },
     "execution_count": 3,
     "metadata": {},
     "output_type": "execute_result"
    }
   ],
   "source": [
    "df = pd.read_csv(\"homework_6.1.csv\")\n",
    "df.head(5)"
   ]
  },
  {
   "cell_type": "code",
   "execution_count": 5,
   "id": "ea494a3c",
   "metadata": {},
   "outputs": [
    {
     "name": "stdout",
     "output_type": "stream",
     "text": [
      "Average Treatment Effect (ATE): 1.8464\n",
      "Average Treatment Effect on the Treated (ATT): 1.8464\n",
      "Average Treatment Effect on the Untreated (ATU): 1.5495\n",
      "Marginal Treatment Effect (MTE): 2.1725\n"
     ]
    }
   ],
   "source": [
    "treated = df[df[\"X\"]== 1].reset_index(drop=True)\n",
    "untreated = df[df[\"X\"]==0].reset_index(drop=True)\n",
    "\n",
    "Z_treated = treated[[\"Z\"]]\n",
    "Z_untreated = untreated[[\"Z\"]]\n",
    "\n",
    "# Match each untreated to  the nearest treat\n",
    "nn_treated = NearestNeighbors(n_neighbors=1).fit(Z_untreated)\n",
    "dist_treated, idx_treated = nn_treated.kneighbors(Z_treated)\n",
    "\n",
    "# Match each treated to  the nearest untreat\n",
    "nn_untreated = NearestNeighbors(n_neighbors=1).fit(Z_treated)\n",
    "dist_untreated, idx_untreated = nn_untreated.kneighbors(Z_untreated)\n",
    "\n",
    "# Extract Y for match pairs\n",
    "Y_treated = treated[\"Y\"].values\n",
    "Y_untreated = untreated[\"Y\"].values\n",
    "Y_matched_untreated = untreated.loc[idx_treated.flatten(), 'Y'].values\n",
    "Y_matched_treated = treated.loc[idx_untreated.flatten(), 'Y'].values\n",
    "\n",
    "ATE = np.mean (Y_treated - Y_matched_untreated)\n",
    "ATT = ATE\n",
    "ATU = np.mean(Y_matched_treated-Y_untreated)\n",
    "MTE = np.max(Y_matched_treated - Y_untreated)\n",
    "\n",
    "print(f\"Average Treatment Effect (ATE): {ATE:.4f}\")\n",
    "print(f\"Average Treatment Effect on the Treated (ATT): {ATT:.4f}\")\n",
    "print(f\"Average Treatment Effect on the Untreated (ATU): {ATU:.4f}\")\n",
    "print(f\"Marginal Treatment Effect (MTE): {MTE:.4f}\")"
   ]
  }
 ],
 "metadata": {
  "kernelspec": {
   "display_name": "Python 3",
   "language": "python",
   "name": "python3"
  },
  "language_info": {
   "codemirror_mode": {
    "name": "ipython",
    "version": 3
   },
   "file_extension": ".py",
   "mimetype": "text/x-python",
   "name": "python",
   "nbconvert_exporter": "python",
   "pygments_lexer": "ipython3",
   "version": "3.12.1"
  }
 },
 "nbformat": 4,
 "nbformat_minor": 5
}
