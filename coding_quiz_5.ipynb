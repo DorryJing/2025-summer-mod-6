{
 "cells": [
  {
   "cell_type": "code",
   "execution_count": 102,
   "id": "1d21bd19",
   "metadata": {},
   "outputs": [],
   "source": [
    "import numpy as np\n",
    "import pandas as pd\n",
    "from sklearn.linear_model import LinearRegression"
   ]
  },
  {
   "cell_type": "code",
   "execution_count": 103,
   "id": "3becdb35",
   "metadata": {},
   "outputs": [],
   "source": [
    "num = 100 \n",
    "\n",
    " \n",
    "\n",
    "difficulty = np.random.uniform(0, 1, (num,)) \n",
    "\n",
    " \n",
    "\n",
    "speed = np.maximum(np.random.normal(15, 5, (num, )) - difficulty * 10, 0) \n",
    "\n",
    " \n",
    "\n",
    "accident = np.minimum(np.maximum(0.03 * speed + 0.4 * difficulty + np.random.normal(0, 0.3, (num,)), 0), 1) \n",
    "\n",
    " \n",
    "\n",
    "df = pd.DataFrame({'difficulty': difficulty, 'speed': speed, 'accident': accident}) "
   ]
  },
  {
   "cell_type": "code",
   "execution_count": 104,
   "id": "22aaa096",
   "metadata": {},
   "outputs": [
    {
     "name": "stdout",
     "output_type": "stream",
     "text": [
      "-11.616974934039238\n"
     ]
    }
   ],
   "source": [
    "trails = 1000\n",
    "coefs = []\n",
    "model = LinearRegression()\n",
    "model.fit(df[[\"difficulty\"]],df[\"speed\"])\n",
    "\n",
    "for _ in range(trails):\n",
    "    coefs.append(model.coef_)\n",
    "\n",
    "avg_coef = np.mean(coefs)\n",
    "\n",
    "print(avg_coef)\n"
   ]
  },
  {
   "cell_type": "code",
   "execution_count": 105,
   "id": "23054558",
   "metadata": {},
   "outputs": [
    {
     "name": "stdout",
     "output_type": "stream",
     "text": [
      "-11.942033179587579\n"
     ]
    }
   ],
   "source": [
    "trails = 1000\n",
    "coefs = []\n",
    "model = LinearRegression()\n",
    "model.fit(df[[\"difficulty\", \"accident\"]],df[\"speed\"])\n",
    "\n",
    "for _ in range(trails):\n",
    "    coefs.append(model.coef_[0])\n",
    "\n",
    "avg_coef = np.mean(coefs)\n",
    "\n",
    "print(avg_coef)"
   ]
  },
  {
   "cell_type": "code",
   "execution_count": 106,
   "id": "703f5709",
   "metadata": {},
   "outputs": [
    {
     "name": "stdout",
     "output_type": "stream",
     "text": [
      "Average coefficient of difficulty: -9.716711376195548\n"
     ]
    }
   ],
   "source": [
    "import numpy as np\n",
    "import pandas as pd\n",
    "from sklearn.linear_model import LinearRegression\n",
    "num = 100\n",
    "trials = 1000\n",
    "coefs = []\n",
    "\n",
    "for _ in range(trials):\n",
    "   \n",
    "    difficulty = np.random.uniform(0, 1, (num,))\n",
    "    speed = np.maximum(np.random.normal(15, 5, (num,)) - difficulty * 10, 0)\n",
    "    accident = np.minimum(np.maximum(0.03 * speed + 0.4 * difficulty + np.random.normal(0, 0.3, (num,)), 0), 1)\n",
    "\n",
    "    df = pd.DataFrame({'difficulty': difficulty, 'speed': speed, 'accident': accident})\n",
    "    \n",
    "    model = LinearRegression()\n",
    "    model.fit(df[['difficulty']], df['speed'])\n",
    "    coefs.append(model.coef_[0])\n",
    "\n",
    "avg_coef = np.mean(coefs)\n",
    "print(\"Average coefficient of difficulty:\", avg_coef)\n"
   ]
  },
  {
   "cell_type": "code",
   "execution_count": 107,
   "id": "9c2020e7",
   "metadata": {},
   "outputs": [
    {
     "name": "stdout",
     "output_type": "stream",
     "text": [
      "Average coefficient of difficulty when regressing on both X and Z: -10.36253520815904\n"
     ]
    }
   ],
   "source": [
    "num = 100\n",
    "trials = 1000\n",
    "coefs_X = []\n",
    "\n",
    "for _ in range(trials):\n",
    "    \n",
    "    difficulty = np.random.uniform(0, 1, (num,))\n",
    "    speed = np.maximum(np.random.normal(15, 5, (num,)) - difficulty * 10, 0)\n",
    "    accident = np.minimum(np.maximum(0.03 * speed + 0.4 * difficulty + np.random.normal(0, 0.3, (num,)), 0), 1)\n",
    "\n",
    "    df = pd.DataFrame({'difficulty': difficulty, 'speed': speed, 'accident': accident})\n",
    "\n",
    "   \n",
    "    model = LinearRegression()\n",
    "    model.fit(df[['difficulty', 'accident']], df['speed'])\n",
    "\n",
    "    \n",
    "    coefs_X.append(model.coef_[0]) \n",
    "\n",
    "avg_coef_X = np.mean(coefs_X)\n",
    "print(\"Average coefficient of difficulty when regressing on both X and Z:\", avg_coef_X)\n"
   ]
  }
 ],
 "metadata": {
  "kernelspec": {
   "display_name": "Python 3",
   "language": "python",
   "name": "python3"
  },
  "language_info": {
   "codemirror_mode": {
    "name": "ipython",
    "version": 3
   },
   "file_extension": ".py",
   "mimetype": "text/x-python",
   "name": "python",
   "nbconvert_exporter": "python",
   "pygments_lexer": "ipython3",
   "version": "3.12.1"
  }
 },
 "nbformat": 4,
 "nbformat_minor": 5
}
