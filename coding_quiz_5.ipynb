{
 "cells": [
  {
   "cell_type": "code",
   "execution_count": 1,
   "id": "1d21bd19",
   "metadata": {},
   "outputs": [],
   "source": [
    "import numpy as np\n",
    "import pandas as pd\n",
    "from sklearn.linear_model import LinearRegression"
   ]
  },
  {
   "cell_type": "code",
   "execution_count": 2,
   "id": "3becdb35",
   "metadata": {},
   "outputs": [],
   "source": [
    "num = 100 \n",
    "\n",
    " \n",
    "\n",
    "difficulty = np.random.uniform(0, 1, (num,)) \n",
    "\n",
    " \n",
    "\n",
    "speed = np.maximum(np.random.normal(15, 5, (num, )) - difficulty * 10, 0) \n",
    "\n",
    " \n",
    "\n",
    "accident = np.minimum(np.maximum(0.03 * speed + 0.4 * difficulty + np.random.normal(0, 0.3, (num,)), 0), 1) \n",
    "\n",
    " \n",
    "\n",
    "df = pd.DataFrame({'difficulty': difficulty, 'speed': speed, 'accident': accident}) "
   ]
  },
  {
   "cell_type": "code",
   "execution_count": 3,
   "id": "22aaa096",
   "metadata": {},
   "outputs": [
    {
     "name": "stdout",
     "output_type": "stream",
     "text": [
      "-9.770070311003062\n"
     ]
    }
   ],
   "source": [
    "trails = 1000\n",
    "coefs = []\n",
    "model = LinearRegression()\n",
    "model.fit(df[[\"difficulty\"]],df[\"speed\"])\n",
    "\n",
    "for _ in range(trails):\n",
    "    coefs.append(model.coef_)\n",
    "\n",
    "avg_coef = np.mean(coefs)\n",
    "\n",
    "print(avg_coef)\n"
   ]
  },
  {
   "cell_type": "code",
   "execution_count": 4,
   "id": "23054558",
   "metadata": {},
   "outputs": [
    {
     "name": "stdout",
     "output_type": "stream",
     "text": [
      "-10.078789249926283\n"
     ]
    }
   ],
   "source": [
    "trails = 1000\n",
    "coefs = []\n",
    "model = LinearRegression()\n",
    "model.fit(df[[\"difficulty\", \"accident\"]],df[\"speed\"])\n",
    "\n",
    "for _ in range(trails):\n",
    "    coefs.append(model.coef_[0])\n",
    "\n",
    "avg_coef = np.mean(coefs)\n",
    "\n",
    "print(avg_coef)"
   ]
  },
  {
   "cell_type": "code",
   "execution_count": 5,
   "id": "703f5709",
   "metadata": {},
   "outputs": [
    {
     "name": "stdout",
     "output_type": "stream",
     "text": [
      "Average coefficient of difficulty: -9.621185755585023\n"
     ]
    }
   ],
   "source": [
    "import numpy as np\n",
    "import pandas as pd\n",
    "from sklearn.linear_model import LinearRegression\n",
    "num = 100\n",
    "trials = 1000\n",
    "coefs = []\n",
    "\n",
    "for _ in range(trials):\n",
    "   \n",
    "    difficulty = np.random.uniform(0, 1, (num,))\n",
    "    speed = np.maximum(np.random.normal(15, 5, (num,)) - difficulty * 10, 0)\n",
    "    accident = np.minimum(np.maximum(0.03 * speed + 0.4 * difficulty + np.random.normal(0, 0.3, (num,)), 0), 1)\n",
    "\n",
    "    df = pd.DataFrame({'difficulty': difficulty, 'speed': speed, 'accident': accident})\n",
    "    \n",
    "    model = LinearRegression()\n",
    "    model.fit(df[['difficulty']], df['speed'])\n",
    "    coefs.append(model.coef_[0])\n",
    "\n",
    "avg_coef = np.mean(coefs)\n",
    "print(\"Average coefficient of difficulty:\", avg_coef)\n"
   ]
  },
  {
   "cell_type": "code",
   "execution_count": 6,
   "id": "9c2020e7",
   "metadata": {},
   "outputs": [
    {
     "name": "stdout",
     "output_type": "stream",
     "text": [
      "Average coefficient of difficulty when regressing on both X and Z: -10.393822756126697\n"
     ]
    }
   ],
   "source": [
    "num = 100\n",
    "trials = 1000\n",
    "coefs_X = []\n",
    "\n",
    "for _ in range(trials):\n",
    "    \n",
    "    difficulty = np.random.uniform(0, 1, (num,))\n",
    "    speed = np.maximum(np.random.normal(15, 5, (num,)) - difficulty * 10, 0)\n",
    "    accident = np.minimum(np.maximum(0.03 * speed + 0.4 * difficulty + np.random.normal(0, 0.3, (num,)), 0), 1)\n",
    "\n",
    "    df = pd.DataFrame({'difficulty': difficulty, 'speed': speed, 'accident': accident})\n",
    "\n",
    "   \n",
    "    model = LinearRegression()\n",
    "    model.fit(df[['difficulty', 'accident']], df['speed'])\n",
    "\n",
    "    \n",
    "    coefs_X.append(model.coef_[0]) \n",
    "\n",
    "avg_coef_X = np.mean(coefs_X)\n",
    "print(\"Average coefficient of difficulty when regressing on both X and Z:\", avg_coef_X)\n"
   ]
  },
  {
   "cell_type": "code",
   "execution_count": null,
   "id": "2195bbe3",
   "metadata": {},
   "outputs": [
    {
     "name": "stdout",
     "output_type": "stream",
     "text": [
      "   lightning_storm   bear_pop    deer_pop  flower_pop\n",
      "0         0.374540  44.689074   81.685671  179.298036\n",
      "1         0.950714  29.857361   80.976190  189.390466\n",
      "2         0.731994  40.198531   76.590550  184.987593\n",
      "3         0.598658  26.472389  107.306184  168.305746\n",
      "4         0.156019  44.101824   92.371997  164.017576\n"
     ]
    }
   ],
   "source": [
    "np.random.seed(42)\n",
    "n = 100  \n",
    "lightning_storm = np.random.rand(n)\n",
    "\n",
    "# add noise\n",
    "base_bear = np.random.normal(loc=50, scale=5, size=n)\n",
    "base_deer = np.random.normal(loc=100, scale=10, size=n)\n",
    "base_flower = np.random.normal(loc=200, scale=20, size=n)\n",
    "\n",
    "# Storm decreases bears and deer, increases flowers\n",
    "bear_pop = base_bear - 20 * lightning_storm + np.random.normal(0, 2, n)\n",
    "deer_pop = base_deer - 30 * lightning_storm - 0.2 * bear_pop + np.random.normal(0, 3, n)\n",
    "flower_pop = base_flower + 40 * lightning_storm - 0.5 * deer_pop + np.random.normal(0, 5, n)\n",
    "\n",
    "# prevent negative populations\n",
    "bear_pop = np.clip(bear_pop, 0, None)\n",
    "deer_pop = np.clip(deer_pop, 0, None)\n",
    "flower_pop = np.clip(flower_pop, 0, None)\n",
    "\n",
    "df = pd.DataFrame({\n",
    "    \"lightning_storm\": lightning_storm,\n",
    "    \"bear_pop\": bear_pop,\n",
    "    \"deer_pop\": deer_pop,\n",
    "    \"flower_pop\": flower_pop\n",
    "})\n",
    "print(df.head())\n"
   ]
  },
  {
   "cell_type": "code",
   "execution_count": null,
   "id": "412d86e2",
   "metadata": {},
   "outputs": [],
   "source": [
    "np.random.seed(0)\n",
    "effects = np.random.normal(loc=5, scale=2, size=100)  # Simulated treatment effects\n",
    "\n",
    "# top 5% largest effects\n",
    "top_5_count = max(1, int(len(effects) * 0.05))  \n",
    "top_5_effects = np.sort(effects)[-top_5_count:]\n",
    "\n",
    "# average of the top 5% effects\n",
    "mte_top5 = np.mean(top_5_effects)\n",
    "\n",
    "print(f\"Estimated Marginal Treatment Effect (Top 5% Average): {mte_top5:.2f}\")\n"
   ]
  }
 ],
 "metadata": {
  "kernelspec": {
   "display_name": "Python 3",
   "language": "python",
   "name": "python3"
  },
  "language_info": {
   "codemirror_mode": {
    "name": "ipython",
    "version": 3
   },
   "file_extension": ".py",
   "mimetype": "text/x-python",
   "name": "python",
   "nbconvert_exporter": "python",
   "pygments_lexer": "ipython3",
   "version": "3.12.1"
  }
 },
 "nbformat": 4,
 "nbformat_minor": 5
}
