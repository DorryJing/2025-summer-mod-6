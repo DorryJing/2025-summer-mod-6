{
 "cells": [
  {
   "cell_type": "code",
   "execution_count": 1,
   "id": "7dcddbf1",
   "metadata": {},
   "outputs": [],
   "source": [
    "import pandas as pd\n",
    "import numpy as np\n",
    "from sklearn.linear_model import  LinearRegression\n",
    "from sklearn.preprocessing import StandardScaler\n",
    "from scipy.stats import pearsonr"
   ]
  },
  {
   "cell_type": "code",
   "execution_count": 2,
   "id": "ddc47c12",
   "metadata": {},
   "outputs": [
    {
     "name": "stdout",
     "output_type": "stream",
     "text": [
      "-0.04937193125719182\n"
     ]
    }
   ],
   "source": [
    "np.random.seed(42)\n",
    "\n",
    "n = 1000\n",
    "W = np.random.normal(1, 1, n)\n",
    "X = W + np.random.normal(1, 1, n)\n",
    "Z = np.random.normal(1, 1, n)\n",
    "error = np.random.normal(1, 1, n)\n",
    "Y = X + Z + W + error\n",
    "\n",
    "correlation_X_error, _ = pearsonr(X, error)\n",
    "print(correlation_X_error)"
   ]
  },
  {
   "cell_type": "code",
   "execution_count": 3,
   "id": "1fa8e40f",
   "metadata": {},
   "outputs": [
    {
     "name": "stdout",
     "output_type": "stream",
     "text": [
      "0.45800211823124604\n"
     ]
    }
   ],
   "source": [
    "noise = np.random.normal(0, 1, n)\n",
    "epsilon = np.random.normal(0, 1, n)\n",
    "X = W + noise\n",
    "error_term = W + epsilon\n",
    "\n",
    "corr, _ = pearsonr(X, error_term)\n",
    "print(corr)"
   ]
  },
  {
   "cell_type": "code",
   "execution_count": 5,
   "id": "38627d6a",
   "metadata": {},
   "outputs": [
    {
     "data": {
      "text/html": [
       "<div>\n",
       "<style scoped>\n",
       "    .dataframe tbody tr th:only-of-type {\n",
       "        vertical-align: middle;\n",
       "    }\n",
       "\n",
       "    .dataframe tbody tr th {\n",
       "        vertical-align: top;\n",
       "    }\n",
       "\n",
       "    .dataframe thead th {\n",
       "        text-align: right;\n",
       "    }\n",
       "</style>\n",
       "<table border=\"1\" class=\"dataframe\">\n",
       "  <thead>\n",
       "    <tr style=\"text-align: right;\">\n",
       "      <th></th>\n",
       "      <th>Unnamed: 0</th>\n",
       "      <th>X</th>\n",
       "      <th>W</th>\n",
       "      <th>Z</th>\n",
       "      <th>Y</th>\n",
       "    </tr>\n",
       "  </thead>\n",
       "  <tbody>\n",
       "    <tr>\n",
       "      <th>0</th>\n",
       "      <td>0</td>\n",
       "      <td>1.137055</td>\n",
       "      <td>1.221768</td>\n",
       "      <td>0.327829</td>\n",
       "      <td>1.944532</td>\n",
       "    </tr>\n",
       "    <tr>\n",
       "      <th>1</th>\n",
       "      <td>1</td>\n",
       "      <td>-0.112905</td>\n",
       "      <td>0.465835</td>\n",
       "      <td>0.599650</td>\n",
       "      <td>0.655514</td>\n",
       "    </tr>\n",
       "    <tr>\n",
       "      <th>2</th>\n",
       "      <td>2</td>\n",
       "      <td>2.077755</td>\n",
       "      <td>1.795414</td>\n",
       "      <td>-0.063393</td>\n",
       "      <td>5.934411</td>\n",
       "    </tr>\n",
       "    <tr>\n",
       "      <th>3</th>\n",
       "      <td>3</td>\n",
       "      <td>0.456373</td>\n",
       "      <td>-0.512159</td>\n",
       "      <td>1.177413</td>\n",
       "      <td>-0.188064</td>\n",
       "    </tr>\n",
       "    <tr>\n",
       "      <th>4</th>\n",
       "      <td>4</td>\n",
       "      <td>-1.012402</td>\n",
       "      <td>0.080002</td>\n",
       "      <td>-0.275697</td>\n",
       "      <td>-0.533775</td>\n",
       "    </tr>\n",
       "  </tbody>\n",
       "</table>\n",
       "</div>"
      ],
      "text/plain": [
       "   Unnamed: 0         X         W         Z         Y\n",
       "0           0  1.137055  1.221768  0.327829  1.944532\n",
       "1           1 -0.112905  0.465835  0.599650  0.655514\n",
       "2           2  2.077755  1.795414 -0.063393  5.934411\n",
       "3           3  0.456373 -0.512159  1.177413 -0.188064\n",
       "4           4 -1.012402  0.080002 -0.275697 -0.533775"
      ]
     },
     "execution_count": 5,
     "metadata": {},
     "output_type": "execute_result"
    }
   ],
   "source": [
    "df = pd.read_csv(\"homework_7.1.csv\")\n",
    "df.head(5)"
   ]
  },
  {
   "cell_type": "code",
   "execution_count": 6,
   "id": "77821918",
   "metadata": {},
   "outputs": [
    {
     "name": "stdout",
     "output_type": "stream",
     "text": [
      "{-1: np.float64(0.8699370837921339), 0: np.float64(1.4177428595930386), 1: np.float64(1.9343326364400248)}\n"
     ]
    }
   ],
   "source": [
    "coefficients = {}\n",
    "bin_centers = [-1, 0, 1]\n",
    "bin_width = 0.2\n",
    "\n",
    "for center in bin_centers:\n",
    "    lower = center - bin_width\n",
    "    upper = center + bin_width\n",
    "    subset = df[(df[\"W\"] >= lower) & (df[\"W\"] <= upper)]\n",
    "\n",
    "    X_subset = subset[[\"X\", \"Z\"]]\n",
    "    y_subset = subset[\"Y\"]\n",
    "\n",
    "    model = LinearRegression().fit(X_subset, y_subset)\n",
    "    coefficients[center] = model.coef_[0]\n",
    "\n",
    "print(coefficients)"
   ]
  },
  {
   "cell_type": "code",
   "execution_count": 7,
   "id": "7466a7bd",
   "metadata": {},
   "outputs": [],
   "source": [
    "def make_error(corr_const, num): \n",
    "\n",
    "    err = list() \n",
    "\n",
    "    prev = np.random.normal(0, 1) \n",
    "\n",
    "    for n in range(num): \n",
    "\n",
    "        prev = corr_const * prev + (1 - corr_const) * np.random.normal(0, 1) \n",
    "\n",
    "        err.append(prev) \n",
    "\n",
    "    return np.array(err) "
   ]
  },
  {
   "cell_type": "code",
   "execution_count": 11,
   "id": "0547594b",
   "metadata": {},
   "outputs": [
    {
     "data": {
      "text/plain": [
       "{0.2: {'std_of_estimates': np.float64(0.10800787274892333),\n",
       "  'mean_std_error': np.float64(0.10222266481784854),\n",
       "  'ratio': np.float64(1.0565941803746117)},\n",
       " 0.5: {'std_of_estimates': np.float64(0.13154489442823616),\n",
       "  'mean_std_error': np.float64(0.1007595874045566),\n",
       "  'ratio': np.float64(1.30553228547944)},\n",
       " 0.8: {'std_of_estimates': np.float64(0.2538145705681364),\n",
       "  'mean_std_error': np.float64(0.1013609518676083),\n",
       "  'ratio': np.float64(2.504066564998857)}}"
      ]
     },
     "execution_count": 11,
     "metadata": {},
     "output_type": "execute_result"
    }
   ],
   "source": [
    "import statsmodels.api as sm\n",
    "n = 100\n",
    "trials = 500\n",
    "corr_values = [0.2, 0.5, 0.8]\n",
    "\n",
    "results = {}\n",
    "\n",
    "\n",
    "for corr in corr_values:\n",
    "    coef_estimates = []\n",
    "    std_errors = []\n",
    "\n",
    "    for _ in range(trials):\n",
    "        error_X = make_error(corr, n)\n",
    "        error_Y = make_error(corr, n)\n",
    "\n",
    "        Z = np.random.normal(0, 1, n)  \n",
    "        X = Z + error_X  \n",
    "        Y = 2 * X + Z + error_Y  \n",
    "\n",
    "        X_design = sm.add_constant(np.column_stack((X, Z)))\n",
    "        model = sm.OLS(Y, X_design).fit()\n",
    "\n",
    "        coef_estimates.append(model.params[1])       \n",
    "        std_errors.append(model.bse[1])              \n",
    "\n",
    "    results[corr] = {\n",
    "        \"std_of_estimates\": np.std(coef_estimates),\n",
    "        \"mean_std_error\": np.mean(std_errors),\n",
    "        \"ratio\": np.std(coef_estimates) / np.mean(std_errors)\n",
    "    }\n",
    "\n",
    "results"
   ]
  }
 ],
 "metadata": {
  "kernelspec": {
   "display_name": "Python 3",
   "language": "python",
   "name": "python3"
  },
  "language_info": {
   "codemirror_mode": {
    "name": "ipython",
    "version": 3
   },
   "file_extension": ".py",
   "mimetype": "text/x-python",
   "name": "python",
   "nbconvert_exporter": "python",
   "pygments_lexer": "ipython3",
   "version": "3.12.1"
  }
 },
 "nbformat": 4,
 "nbformat_minor": 5
}
