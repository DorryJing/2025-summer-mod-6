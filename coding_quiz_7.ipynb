{
 "cells": [
  {
   "cell_type": "code",
   "execution_count": 44,
   "id": "7dcddbf1",
   "metadata": {},
   "outputs": [],
   "source": [
    "import pandas as pd\n",
    "import numpy as np\n",
    "from sklearn.linear_model import  LinearRegression\n",
    "from sklearn.preprocessing import StandardScaler\n",
    "from scipy.stats import pearsonr"
   ]
  },
  {
   "cell_type": "code",
   "execution_count": 45,
   "id": "ddc47c12",
   "metadata": {},
   "outputs": [
    {
     "name": "stdout",
     "output_type": "stream",
     "text": [
      "-0.04937193125719182\n"
     ]
    }
   ],
   "source": [
    "np.random.seed(42)\n",
    "\n",
    "n = 1000\n",
    "W = np.random.normal(1, 1, n)\n",
    "X = W + np.random.normal(1, 1, n)\n",
    "Z = np.random.normal(1, 1, n)\n",
    "error = np.random.normal(1, 1, n)\n",
    "Y = X + Z + W + error\n",
    "\n",
    "correlation_X_error, _ = pearsonr(X, error)\n",
    "print(correlation_X_error)"
   ]
  },
  {
   "cell_type": "code",
   "execution_count": 46,
   "id": "4fc30d2d",
   "metadata": {},
   "outputs": [
    {
     "name": "stdout",
     "output_type": "stream",
     "text": [
      "Correlation between X and residuals: 0.0000\n"
     ]
    }
   ],
   "source": [
    "import numpy as np\n",
    "\n",
    "np.random.seed(0)\n",
    "\n",
    "N = 1000\n",
    "W = np.random.normal(0, 1, N)\n",
    "X = W + np.random.normal(0, 1, N)\n",
    "Z = np.full(N, 1)\n",
    "eps = np.random.normal(0, 1, N)\n",
    "\n",
    "Y = X + Z + W + eps\n",
    "\n",
    "# Regress Y on X\n",
    "X_design = np.column_stack((np.ones(N), X))\n",
    "beta_hat = np.linalg.inv(X_design.T @ X_design) @ (X_design.T @ Y)\n",
    "Y_hat = X_design @ beta_hat\n",
    "residuals = Y - Y_hat\n",
    "\n",
    "# Compute correlation of X and residuals\n",
    "corr = np.corrcoef(X, residuals)[0,1]\n",
    "print(f\"Correlation between X and residuals: {corr:.4f}\")\n",
    "\n"
   ]
  },
  {
   "cell_type": "code",
   "execution_count": 47,
   "id": "1fa8e40f",
   "metadata": {},
   "outputs": [
    {
     "name": "stdout",
     "output_type": "stream",
     "text": [
      "0.4871334705471999\n"
     ]
    }
   ],
   "source": [
    "noise = np.random.normal(0, 1, n)\n",
    "epsilon = np.random.normal(0, 1, n)\n",
    "X = W + noise\n",
    "error_term = W + epsilon\n",
    "\n",
    "corr, _ = pearsonr(X, error_term)\n",
    "print(corr)"
   ]
  },
  {
   "cell_type": "code",
   "execution_count": 48,
   "id": "38627d6a",
   "metadata": {},
   "outputs": [
    {
     "data": {
      "text/html": [
       "<div>\n",
       "<style scoped>\n",
       "    .dataframe tbody tr th:only-of-type {\n",
       "        vertical-align: middle;\n",
       "    }\n",
       "\n",
       "    .dataframe tbody tr th {\n",
       "        vertical-align: top;\n",
       "    }\n",
       "\n",
       "    .dataframe thead th {\n",
       "        text-align: right;\n",
       "    }\n",
       "</style>\n",
       "<table border=\"1\" class=\"dataframe\">\n",
       "  <thead>\n",
       "    <tr style=\"text-align: right;\">\n",
       "      <th></th>\n",
       "      <th>Unnamed: 0</th>\n",
       "      <th>X</th>\n",
       "      <th>W</th>\n",
       "      <th>Z</th>\n",
       "      <th>Y</th>\n",
       "    </tr>\n",
       "  </thead>\n",
       "  <tbody>\n",
       "    <tr>\n",
       "      <th>0</th>\n",
       "      <td>0</td>\n",
       "      <td>1.137055</td>\n",
       "      <td>1.221768</td>\n",
       "      <td>0.327829</td>\n",
       "      <td>1.944532</td>\n",
       "    </tr>\n",
       "    <tr>\n",
       "      <th>1</th>\n",
       "      <td>1</td>\n",
       "      <td>-0.112905</td>\n",
       "      <td>0.465835</td>\n",
       "      <td>0.599650</td>\n",
       "      <td>0.655514</td>\n",
       "    </tr>\n",
       "    <tr>\n",
       "      <th>2</th>\n",
       "      <td>2</td>\n",
       "      <td>2.077755</td>\n",
       "      <td>1.795414</td>\n",
       "      <td>-0.063393</td>\n",
       "      <td>5.934411</td>\n",
       "    </tr>\n",
       "    <tr>\n",
       "      <th>3</th>\n",
       "      <td>3</td>\n",
       "      <td>0.456373</td>\n",
       "      <td>-0.512159</td>\n",
       "      <td>1.177413</td>\n",
       "      <td>-0.188064</td>\n",
       "    </tr>\n",
       "    <tr>\n",
       "      <th>4</th>\n",
       "      <td>4</td>\n",
       "      <td>-1.012402</td>\n",
       "      <td>0.080002</td>\n",
       "      <td>-0.275697</td>\n",
       "      <td>-0.533775</td>\n",
       "    </tr>\n",
       "  </tbody>\n",
       "</table>\n",
       "</div>"
      ],
      "text/plain": [
       "   Unnamed: 0         X         W         Z         Y\n",
       "0           0  1.137055  1.221768  0.327829  1.944532\n",
       "1           1 -0.112905  0.465835  0.599650  0.655514\n",
       "2           2  2.077755  1.795414 -0.063393  5.934411\n",
       "3           3  0.456373 -0.512159  1.177413 -0.188064\n",
       "4           4 -1.012402  0.080002 -0.275697 -0.533775"
      ]
     },
     "execution_count": 48,
     "metadata": {},
     "output_type": "execute_result"
    }
   ],
   "source": [
    "df = pd.read_csv(\"homework_7.1.csv\")\n",
    "df.head(5)"
   ]
  },
  {
   "cell_type": "code",
   "execution_count": 49,
   "id": "77821918",
   "metadata": {},
   "outputs": [
    {
     "name": "stdout",
     "output_type": "stream",
     "text": [
      "{-1: np.float64(0.8699370837921339), 0: np.float64(1.4177428595930386), 1: np.float64(1.9343326364400248)}\n"
     ]
    }
   ],
   "source": [
    "coefficients = {}\n",
    "bin_centers = [-1, 0, 1]\n",
    "bin_width = 0.2\n",
    "\n",
    "for center in bin_centers:\n",
    "    lower = center - bin_width\n",
    "    upper = center + bin_width\n",
    "    subset = df[(df[\"W\"] >= lower) & (df[\"W\"] <= upper)]\n",
    "\n",
    "    X_subset = subset[[\"X\", \"Z\"]]\n",
    "    y_subset = subset[\"Y\"]\n",
    "\n",
    "    model = LinearRegression().fit(X_subset, y_subset)\n",
    "    coefficients[center] = model.coef_[0]\n",
    "\n",
    "print(coefficients)"
   ]
  },
  {
   "cell_type": "code",
   "execution_count": 57,
   "id": "cbefc285",
   "metadata": {},
   "outputs": [
    {
     "name": "stdout",
     "output_type": "stream",
     "text": [
      "Coefficient of X for slices of W:\n",
      "\n",
      "W ≈ -1:   coef(X) = 0.8699\n",
      "W ≈ 0:   coef(X) = 1.4177\n",
      "W ≈ 1:   coef(X) = 1.9343\n"
     ]
    }
   ],
   "source": [
    "import pandas as pd\n",
    "import statsmodels.api as sm\n",
    "\n",
    "# Load the data\n",
    "df = pd.read_csv('homework_7.1.csv')\n",
    "\n",
    "# Define the centers and window for W slices\n",
    "w_centers = [-1, 0, 1]\n",
    "window = 0.2\n",
    "\n",
    "print(\"Coefficient of X for slices of W:\\n\")\n",
    "\n",
    "for w0 in w_centers:\n",
    "    # Select rows where W is close to the center\n",
    "    df_slice = df[(df['W'] >= w0 - window) & (df['W'] <= w0 + window)]\n",
    "    if len(df_slice) < 10:\n",
    "        print(f\"Warning: Few samples for W ≈ {w0}. Result may be unstable.\")\n",
    "    # Set up regression: Y ~ X + Z (with intercept)\n",
    "    X_reg = sm.add_constant(df_slice[['X', 'Z']])\n",
    "    model = sm.OLS(df_slice['Y'], X_reg).fit()\n",
    "    coef_x = model.params['X']\n",
    "    print(f\"W ≈ {w0}:   coef(X) = {coef_x:.4f}\")\n",
    "\n",
    "# This will print the coefficient of X for each slice.\n"
   ]
  },
  {
   "cell_type": "code",
   "execution_count": 50,
   "id": "7466a7bd",
   "metadata": {},
   "outputs": [],
   "source": [
    "def make_error(corr_const, num): \n",
    "\n",
    "    err = list() \n",
    "\n",
    "    prev = np.random.normal(0, 1) \n",
    "\n",
    "    for n in range(num): \n",
    "\n",
    "        prev = corr_const * prev + (1 - corr_const) * np.random.normal(0, 1) \n",
    "\n",
    "        err.append(prev) \n",
    "\n",
    "    return np.array(err) "
   ]
  },
  {
   "cell_type": "code",
   "execution_count": 51,
   "id": "0547594b",
   "metadata": {},
   "outputs": [
    {
     "data": {
      "text/plain": [
       "{0.2: {'std_of_estimates': np.float64(0.10603887627032757),\n",
       "  'mean_std_error': np.float64(0.10071318052504205),\n",
       "  'ratio': np.float64(1.0528798288120917)},\n",
       " 0.5: {'std_of_estimates': np.float64(0.13012825686008395),\n",
       "  'mean_std_error': np.float64(0.1020644093905921),\n",
       "  'ratio': np.float64(1.2749621306492238)},\n",
       " 0.8: {'std_of_estimates': np.float64(0.23325105039876434),\n",
       "  'mean_std_error': np.float64(0.10095703268946613),\n",
       "  'ratio': np.float64(2.310399228117387)}}"
      ]
     },
     "execution_count": 51,
     "metadata": {},
     "output_type": "execute_result"
    }
   ],
   "source": [
    "import statsmodels.api as sm\n",
    "n = 100\n",
    "trials = 500\n",
    "corr_values = [0.2, 0.5, 0.8]\n",
    "\n",
    "results = {}\n",
    "\n",
    "\n",
    "for corr in corr_values:\n",
    "    coef_estimates = []\n",
    "    std_errors = []\n",
    "\n",
    "    for _ in range(trials):\n",
    "        error_X = make_error(corr, n)\n",
    "        error_Y = make_error(corr, n)\n",
    "\n",
    "        Z = np.random.normal(0, 1, n)  \n",
    "        X = Z + error_X  \n",
    "        Y = 2 * X + Z + error_Y  \n",
    "\n",
    "        X_design = sm.add_constant(np.column_stack((X, Z)))\n",
    "        model = sm.OLS(Y, X_design).fit()\n",
    "\n",
    "        coef_estimates.append(model.params[1])       \n",
    "        std_errors.append(model.bse[1])              \n",
    "\n",
    "    results[corr] = {\n",
    "        \"std_of_estimates\": np.std(coef_estimates),\n",
    "        \"mean_std_error\": np.mean(std_errors),\n",
    "        \"ratio\": np.std(coef_estimates) / np.mean(std_errors)\n",
    "    }\n",
    "\n",
    "results"
   ]
  },
  {
   "cell_type": "code",
   "execution_count": 52,
   "id": "5c8f3d2f",
   "metadata": {},
   "outputs": [
    {
     "data": {
      "text/plain": [
       "np.float64(0.7596914265127124)"
      ]
     },
     "execution_count": 52,
     "metadata": {},
     "output_type": "execute_result"
    }
   ],
   "source": [
    "# reflection q1\n",
    "Z = np.random.normal(0, 1, n)\n",
    "X = 0.5 * Z + np.random.normal(0, 1, n)\n",
    "# Y depends on X and Z, plus random noise\n",
    "beta_X = 1\n",
    "beta_Z = 2\n",
    "epsilon = np.random.normal(0, 1, n)\n",
    "Y = beta_X * X + beta_Z * Z + epsilon\n",
    "# True correlation between X and Y\n",
    "true_corr = np.corrcoef(X, Y)[0, 1]\n",
    "true_corr"
   ]
  },
  {
   "cell_type": "code",
   "execution_count": 53,
   "id": "e55a9471",
   "metadata": {},
   "outputs": [
    {
     "data": {
      "text/plain": [
       "np.float64(2.030203565474906)"
      ]
     },
     "execution_count": 53,
     "metadata": {},
     "output_type": "execute_result"
    }
   ],
   "source": [
    "# Omitting Z model\n",
    "model_omit = LinearRegression().fit(X.reshape(-1, 1), Y)\n",
    "coef_omit = model_omit.coef_[0]\n",
    "coef_omit"
   ]
  },
  {
   "cell_type": "code",
   "execution_count": 54,
   "id": "8f7e6b02",
   "metadata": {},
   "outputs": [
    {
     "data": {
      "text/plain": [
       "np.float64(1.0390797508558818)"
      ]
     },
     "execution_count": 54,
     "metadata": {},
     "output_type": "execute_result"
    }
   ],
   "source": [
    "# Control Z model\n",
    "XZ = np.column_stack((X, Z))\n",
    "model_full = LinearRegression().fit(XZ, Y)\n",
    "coef_full = model_full.coef_[0]\n",
    "coef_full"
   ]
  },
  {
   "cell_type": "code",
   "execution_count": 55,
   "id": "9b277fec",
   "metadata": {},
   "outputs": [],
   "source": [
    "import statsmodels.api as sm"
   ]
  },
  {
   "cell_type": "code",
   "execution_count": 56,
   "id": "f9239e08",
   "metadata": {},
   "outputs": [
    {
     "ename": "KeyboardInterrupt",
     "evalue": "",
     "output_type": "error",
     "traceback": [
      "\u001b[31m---------------------------------------------------------------------------\u001b[39m",
      "\u001b[31mKeyboardInterrupt\u001b[39m                         Traceback (most recent call last)",
      "\u001b[36mCell\u001b[39m\u001b[36m \u001b[39m\u001b[32mIn[56]\u001b[39m\u001b[32m, line 16\u001b[39m\n\u001b[32m     12\u001b[39m     predictors = sm.add_constant(predictors)\n\u001b[32m     14\u001b[39m     model = sm.OLS(Y, predictors).fit()\n\u001b[32m---> \u001b[39m\u001b[32m16\u001b[39m     p = \u001b[43mmodel\u001b[49m\u001b[43m.\u001b[49m\u001b[43mpvalues\u001b[49m[\u001b[32m2\u001b[39m]\n\u001b[32m     17\u001b[39m     p_values.append(p)\n\u001b[32m     20\u001b[39m \u001b[38;5;28mprint\u001b[39m(\u001b[33m\"\u001b[39m\u001b[33mSmallest p-value among 1000 simulations:\u001b[39m\u001b[33m\"\u001b[39m, \u001b[38;5;28mmin\u001b[39m(p_values))\n",
      "\u001b[36mFile \u001b[39m\u001b[32m/usr/local/python/3.12.1/lib/python3.12/site-packages/statsmodels/base/wrapper.py:34\u001b[39m, in \u001b[36mResultsWrapper.__getattribute__\u001b[39m\u001b[34m(self, attr)\u001b[39m\n\u001b[32m     31\u001b[39m \u001b[38;5;28;01mexcept\u001b[39;00m \u001b[38;5;167;01mAttributeError\u001b[39;00m:\n\u001b[32m     32\u001b[39m     \u001b[38;5;28;01mpass\u001b[39;00m\n\u001b[32m---> \u001b[39m\u001b[32m34\u001b[39m obj = \u001b[38;5;28;43mgetattr\u001b[39;49m\u001b[43m(\u001b[49m\u001b[43mresults\u001b[49m\u001b[43m,\u001b[49m\u001b[43m \u001b[49m\u001b[43mattr\u001b[49m\u001b[43m)\u001b[49m\n\u001b[32m     35\u001b[39m data = results.model.data\n\u001b[32m     36\u001b[39m how = \u001b[38;5;28mself\u001b[39m._wrap_attrs.get(attr)\n",
      "\u001b[36mFile \u001b[39m\u001b[32mproperties.pyx:36\u001b[39m, in \u001b[36mpandas._libs.properties.CachedProperty.__get__\u001b[39m\u001b[34m()\u001b[39m\n",
      "\u001b[36mFile \u001b[39m\u001b[32m/usr/local/python/3.12.1/lib/python3.12/site-packages/statsmodels/base/model.py:1450\u001b[39m, in \u001b[36mLikelihoodModelResults.pvalues\u001b[39m\u001b[34m(self)\u001b[39m\n\u001b[32m   1448\u001b[39m \u001b[38;5;28;01mif\u001b[39;00m \u001b[38;5;28mself\u001b[39m.use_t:\n\u001b[32m   1449\u001b[39m     df_resid = \u001b[38;5;28mgetattr\u001b[39m(\u001b[38;5;28mself\u001b[39m, \u001b[33m'\u001b[39m\u001b[33mdf_resid_inference\u001b[39m\u001b[33m'\u001b[39m, \u001b[38;5;28mself\u001b[39m.df_resid)\n\u001b[32m-> \u001b[39m\u001b[32m1450\u001b[39m     \u001b[38;5;28;01mreturn\u001b[39;00m \u001b[43mstats\u001b[49m\u001b[43m.\u001b[49m\u001b[43mt\u001b[49m\u001b[43m.\u001b[49m\u001b[43msf\u001b[49m\u001b[43m(\u001b[49m\u001b[43mnp\u001b[49m\u001b[43m.\u001b[49m\u001b[43mabs\u001b[49m\u001b[43m(\u001b[49m\u001b[38;5;28;43mself\u001b[39;49m\u001b[43m.\u001b[49m\u001b[43mtvalues\u001b[49m\u001b[43m)\u001b[49m\u001b[43m,\u001b[49m\u001b[43m \u001b[49m\u001b[43mdf_resid\u001b[49m\u001b[43m)\u001b[49m * \u001b[32m2\u001b[39m\n\u001b[32m   1451\u001b[39m \u001b[38;5;28;01melse\u001b[39;00m:\n\u001b[32m   1452\u001b[39m     \u001b[38;5;28;01mreturn\u001b[39;00m stats.norm.sf(np.abs(\u001b[38;5;28mself\u001b[39m.tvalues)) * \u001b[32m2\u001b[39m\n",
      "\u001b[36mFile \u001b[39m\u001b[32m~/.local/lib/python3.12/site-packages/scipy/stats/_distn_infrastructure.py:2221\u001b[39m, in \u001b[36mrv_continuous.sf\u001b[39m\u001b[34m(self, x, *args, **kwds)\u001b[39m\n\u001b[32m   2219\u001b[39m place(output, cond2, \u001b[32m1.0\u001b[39m)\n\u001b[32m   2220\u001b[39m \u001b[38;5;28;01mif\u001b[39;00m np.any(cond):\n\u001b[32m-> \u001b[39m\u001b[32m2221\u001b[39m     goodargs = \u001b[43margsreduce\u001b[49m\u001b[43m(\u001b[49m\u001b[43mcond\u001b[49m\u001b[43m,\u001b[49m\u001b[43m \u001b[49m\u001b[43m*\u001b[49m\u001b[43m(\u001b[49m\u001b[43m(\u001b[49m\u001b[43mx\u001b[49m\u001b[43m,\u001b[49m\u001b[43m)\u001b[49m\u001b[43m+\u001b[49m\u001b[43margs\u001b[49m\u001b[43m)\u001b[49m\u001b[43m)\u001b[49m\n\u001b[32m   2222\u001b[39m     place(output, cond, \u001b[38;5;28mself\u001b[39m._sf(*goodargs))\n\u001b[32m   2223\u001b[39m \u001b[38;5;28;01mif\u001b[39;00m output.ndim == \u001b[32m0\u001b[39m:\n",
      "\u001b[36mFile \u001b[39m\u001b[32m~/.local/lib/python3.12/site-packages/scipy/stats/_distn_infrastructure.py:645\u001b[39m, in \u001b[36margsreduce\u001b[39m\u001b[34m(cond, *args)\u001b[39m\n\u001b[32m    641\u001b[39m     newargs = (newargs,)\n\u001b[32m    643\u001b[39m \u001b[38;5;28;01mif\u001b[39;00m np.all(cond):\n\u001b[32m    644\u001b[39m     \u001b[38;5;66;03m# broadcast arrays with cond\u001b[39;00m\n\u001b[32m--> \u001b[39m\u001b[32m645\u001b[39m     *newargs, cond = \u001b[43mnp\u001b[49m\u001b[43m.\u001b[49m\u001b[43mbroadcast_arrays\u001b[49m\u001b[43m(\u001b[49m\u001b[43m*\u001b[49m\u001b[43mnewargs\u001b[49m\u001b[43m,\u001b[49m\u001b[43m \u001b[49m\u001b[43mcond\u001b[49m\u001b[43m)\u001b[49m\n\u001b[32m    646\u001b[39m     \u001b[38;5;28;01mreturn\u001b[39;00m [arg.ravel() \u001b[38;5;28;01mfor\u001b[39;00m arg \u001b[38;5;129;01min\u001b[39;00m newargs]\n\u001b[32m    648\u001b[39m s = cond.shape\n",
      "\u001b[36mFile \u001b[39m\u001b[32m~/.local/lib/python3.12/site-packages/numpy/lib/_stride_tricks_impl.py:547\u001b[39m, in \u001b[36mbroadcast_arrays\u001b[39m\u001b[34m(subok, *args)\u001b[39m\n\u001b[32m    542\u001b[39m args = [np.array(_m, copy=\u001b[38;5;28;01mNone\u001b[39;00m, subok=subok) \u001b[38;5;28;01mfor\u001b[39;00m _m \u001b[38;5;129;01min\u001b[39;00m args]\n\u001b[32m    544\u001b[39m shape = _broadcast_shape(*args)\n\u001b[32m    546\u001b[39m result = [array \u001b[38;5;28;01mif\u001b[39;00m array.shape == shape\n\u001b[32m--> \u001b[39m\u001b[32m547\u001b[39m           \u001b[38;5;28;01melse\u001b[39;00m \u001b[43m_broadcast_to\u001b[49m\u001b[43m(\u001b[49m\u001b[43marray\u001b[49m\u001b[43m,\u001b[49m\u001b[43m \u001b[49m\u001b[43mshape\u001b[49m\u001b[43m,\u001b[49m\u001b[43m \u001b[49m\u001b[43msubok\u001b[49m\u001b[43m=\u001b[49m\u001b[43msubok\u001b[49m\u001b[43m,\u001b[49m\u001b[43m \u001b[49m\u001b[43mreadonly\u001b[49m\u001b[43m=\u001b[49m\u001b[38;5;28;43;01mFalse\u001b[39;49;00m\u001b[43m)\u001b[49m\n\u001b[32m    548\u001b[39m                           \u001b[38;5;28;01mfor\u001b[39;00m array \u001b[38;5;129;01min\u001b[39;00m args]\n\u001b[32m    549\u001b[39m \u001b[38;5;28;01mreturn\u001b[39;00m \u001b[38;5;28mtuple\u001b[39m(result)\n",
      "\u001b[36mFile \u001b[39m\u001b[32m~/.local/lib/python3.12/site-packages/numpy/lib/_stride_tricks_impl.py:349\u001b[39m, in \u001b[36m_broadcast_to\u001b[39m\u001b[34m(array, shape, subok, readonly)\u001b[39m\n\u001b[32m    346\u001b[39m     \u001b[38;5;28;01mraise\u001b[39;00m \u001b[38;5;167;01mValueError\u001b[39;00m(\u001b[33m'\u001b[39m\u001b[33mall elements of broadcast shape must be non-\u001b[39m\u001b[33m'\u001b[39m\n\u001b[32m    347\u001b[39m                      \u001b[33m'\u001b[39m\u001b[33mnegative\u001b[39m\u001b[33m'\u001b[39m)\n\u001b[32m    348\u001b[39m extras = []\n\u001b[32m--> \u001b[39m\u001b[32m349\u001b[39m it = \u001b[43mnp\u001b[49m\u001b[43m.\u001b[49m\u001b[43mnditer\u001b[49m\u001b[43m(\u001b[49m\n\u001b[32m    350\u001b[39m \u001b[43m    \u001b[49m\u001b[43m(\u001b[49m\u001b[43marray\u001b[49m\u001b[43m,\u001b[49m\u001b[43m)\u001b[49m\u001b[43m,\u001b[49m\u001b[43m \u001b[49m\u001b[43mflags\u001b[49m\u001b[43m=\u001b[49m\u001b[43m[\u001b[49m\u001b[33;43m'\u001b[39;49m\u001b[33;43mmulti_index\u001b[39;49m\u001b[33;43m'\u001b[39;49m\u001b[43m,\u001b[49m\u001b[43m \u001b[49m\u001b[33;43m'\u001b[39;49m\u001b[33;43mrefs_ok\u001b[39;49m\u001b[33;43m'\u001b[39;49m\u001b[43m,\u001b[49m\u001b[43m \u001b[49m\u001b[33;43m'\u001b[39;49m\u001b[33;43mzerosize_ok\u001b[39;49m\u001b[33;43m'\u001b[39;49m\u001b[43m]\u001b[49m\u001b[43m \u001b[49m\u001b[43m+\u001b[49m\u001b[43m \u001b[49m\u001b[43mextras\u001b[49m\u001b[43m,\u001b[49m\n\u001b[32m    351\u001b[39m \u001b[43m    \u001b[49m\u001b[43mop_flags\u001b[49m\u001b[43m=\u001b[49m\u001b[43m[\u001b[49m\u001b[33;43m'\u001b[39;49m\u001b[33;43mreadonly\u001b[39;49m\u001b[33;43m'\u001b[39;49m\u001b[43m]\u001b[49m\u001b[43m,\u001b[49m\u001b[43m \u001b[49m\u001b[43mitershape\u001b[49m\u001b[43m=\u001b[49m\u001b[43mshape\u001b[49m\u001b[43m,\u001b[49m\u001b[43m \u001b[49m\u001b[43morder\u001b[49m\u001b[43m=\u001b[49m\u001b[33;43m'\u001b[39;49m\u001b[33;43mC\u001b[39;49m\u001b[33;43m'\u001b[39;49m\u001b[43m)\u001b[49m\n\u001b[32m    352\u001b[39m \u001b[38;5;28;01mwith\u001b[39;00m it:\n\u001b[32m    353\u001b[39m     \u001b[38;5;66;03m# never really has writebackifcopy semantics\u001b[39;00m\n\u001b[32m    354\u001b[39m     broadcast = it.itviews[\u001b[32m0\u001b[39m]\n",
      "\u001b[31mKeyboardInterrupt\u001b[39m: "
     ]
    }
   ],
   "source": [
    "# reflection q2\n",
    "n = 100\n",
    "runs =  1000\n",
    "p_values = []\n",
    "\n",
    "for _ in range(runs):\n",
    "    W = np.random.normal(0, 1, n)\n",
    "    X = np.random.normal(0, 1, n)\n",
    "    Y = 2 * X + np.random.normal(0, 1, n)\n",
    "    \n",
    "    predictors = np.column_stack((X, W))\n",
    "    predictors = sm.add_constant(predictors)\n",
    "    \n",
    "    model = sm.OLS(Y, predictors).fit()\n",
    "    \n",
    "    p = model.pvalues[2]\n",
    "    p_values.append(p)\n",
    "\n",
    "\n",
    "print(\"Smallest p-value among 1000 simulations:\", min(p_values))"
   ]
  }
 ],
 "metadata": {
  "kernelspec": {
   "display_name": "Python 3",
   "language": "python",
   "name": "python3"
  },
  "language_info": {
   "codemirror_mode": {
    "name": "ipython",
    "version": 3
   },
   "file_extension": ".py",
   "mimetype": "text/x-python",
   "name": "python",
   "nbconvert_exporter": "python",
   "pygments_lexer": "ipython3",
   "version": "3.12.1"
  }
 },
 "nbformat": 4,
 "nbformat_minor": 5
}
