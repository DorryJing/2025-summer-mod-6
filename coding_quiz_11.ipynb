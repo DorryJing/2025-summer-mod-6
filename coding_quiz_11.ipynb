{
 "cells": [
  {
   "cell_type": "code",
   "execution_count": 2,
   "id": "dc0699b1",
   "metadata": {},
   "outputs": [],
   "source": [
    "import numpy as np\n",
    "import statsmodels.api as sm"
   ]
  },
  {
   "cell_type": "code",
   "execution_count": 3,
   "id": "26b23ca3",
   "metadata": {},
   "outputs": [
    {
     "name": "stdout",
     "output_type": "stream",
     "text": [
      "1.8873817808190254\n"
     ]
    }
   ],
   "source": [
    "num = 1000 \n",
    " \n",
    "event_time = int(num / 2) \n",
    " \n",
    "R_market = np.random.normal(0, 1, num) + np.arange(num) / num \n",
    " \n",
    "R_target = 2 + R_market + np.random.normal(0, 1, num) + (np.arange(num) == int(num / 2) + 1) * 2 \n",
    " \n",
    "results = sm.OLS(R_target[:event_time], sm.add_constant(R_market[:event_time])).fit() \n",
    " \n",
    "alpha, beta = results.params \n",
    " \n",
    "resid = R_target - results.predict(sm.add_constant(R_market)) \n",
    " \n",
    "print(resid[event_time + 1] / resid[:event_time].std(ddof = 2)) "
   ]
  },
  {
   "cell_type": "code",
   "execution_count": 4,
   "id": "d6828fe0",
   "metadata": {},
   "outputs": [
    {
     "name": "stdout",
     "output_type": "stream",
     "text": [
      "Estimated power 0.516\n"
     ]
    }
   ],
   "source": [
    "success = 0\n",
    "n_sim = 1000\n",
    "num = 1000 \n",
    " \n",
    "event_time = int(num / 2) \n",
    "\n",
    "for _ in range(n_sim):\n",
    " \n",
    "    R_market = np.random.normal(0, 1, num) + np.arange(num) / num \n",
    " \n",
    "    R_target = 2 + R_market + np.random.normal(0, 1, num) + (np.arange(num) == int(num / 2) + 1) * 2 \n",
    " \n",
    "    results = sm.OLS(R_target[:event_time], sm.add_constant(R_market[:event_time])).fit() \n",
    " \n",
    "    alpha, beta = results.params \n",
    " \n",
    "    resid = R_target - results.predict(sm.add_constant(R_market)) \n",
    "    tval = resid[event_time + 1]/ resid[:event_time].std(ddof=2)\n",
    "    if abs(tval) > 1.96:\n",
    "        success += 1\n",
    "print(\"Estimated power\", success / n_sim)"
   ]
  },
  {
   "cell_type": "code",
   "execution_count": 5,
   "id": "b9d90fe6",
   "metadata": {},
   "outputs": [
    {
     "name": "stdout",
     "output_type": "stream",
     "text": [
      "Fraction significant: 0.0467706013363029\n"
     ]
    }
   ],
   "source": [
    "#q2\n",
    "num = 1000\n",
    "event_time = int(num/2)\n",
    "\n",
    "np.random.seed(0)\n",
    "R_market = np.random.normal(0, 1, num) + np.arange(num) / num \n",
    " \n",
    "R_target = 2 + R_market + np.random.normal(0, 1, num) + (np.arange(num) == event_time + 1) * 2 \n",
    "\n",
    "success = 0\n",
    "tested_times = 0\n",
    "\n",
    "for fictitious_event_time in range(100, num-2):\n",
    "    result = sm.OLS(\n",
    "        R_target[:fictitious_event_time],\n",
    "        sm.add_constant(R_market[:fictitious_event_time])\n",
    "    ).fit()\n",
    "    resid = R_target - results.predict(sm.add_constant(R_market))\n",
    "    tval = resid[fictitious_event_time] / resid[:fictitious_event_time].std(ddof=2)\n",
    "    if abs(tval) > 1.96:\n",
    "        success += 1\n",
    "    tested_times += 1\n",
    "print('Fraction significant:', success/tested_times)"
   ]
  },
  {
   "cell_type": "code",
   "execution_count": 6,
   "id": "c2bafdfb",
   "metadata": {},
   "outputs": [
    {
     "name": "stdout",
     "output_type": "stream",
     "text": [
      "Average fraction of placebo t_value > real t_values: 0.14809999999999998\n"
     ]
    }
   ],
   "source": [
    "# q3\n",
    "num = 1000\n",
    "event_time = int(num/2)\n",
    "n_sim = 500\n",
    "results = []\n",
    "\n",
    "for seed in range(n_sim):\n",
    "    np.random.seed(seed)\n",
    "    R_market = np.random.normal(0, 1, num) + np.arange(num) / num\n",
    "    R_target = 2 + R_market + np.random.normal(0, 1, num) + (np.arange(num) == event_time + 1) * 2\n",
    "    \n",
    "    model = sm.OLS(R_target[:event_time], sm.add_constant(R_market[:event_time])).fit()\n",
    "    resid = R_target - model.predict(sm.add_constant(R_market))\n",
    "    t_real = abs(resid[event_time + 1]/resid[:event_time].std(ddof=2))\n",
    "\n",
    "# 20 before and 20 after\n",
    "    count = 0\n",
    "    total = 0\n",
    "    for offset in range(-20, 21):\n",
    "        fake_time = event_time + offset\n",
    "        if fake_time == event_time + 1 or fake_time < 100 or fake_time > num - 3:\n",
    "            continue\n",
    "        model_fake = sm.OLS(R_target[:fake_time], sm.add_constant(R_market[:fake_time])).fit()\n",
    "        resid_fake = R_target - model_fake.predict(sm.add_constant(R_market))\n",
    "        t_fake = abs(resid_fake[fake_time]/resid_fake[:fake_time].std(ddof=2))\n",
    "        if t_fake > t_real:\n",
    "            count += 1\n",
    "        total += 1\n",
    "    results.append(count/total)\n",
    "print(\"Average fraction of placebo t_value > real t_values:\",np.mean(results))"
   ]
  },
  {
   "cell_type": "code",
   "execution_count": 7,
   "id": "acc56d3e",
   "metadata": {},
   "outputs": [],
   "source": [
    "def make_error(corr_const, num): \n",
    " \n",
    " \n",
    "  sigma = 5 * 1 / np.sqrt((1 - corr_const)**2 / (1 - corr_const**2)) \n",
    " \n",
    " \n",
    "  err = list() \n",
    " \n",
    " \n",
    "  prev = np.random.normal(0, sigma) \n",
    " \n",
    " \n",
    "  for n in range(num): \n",
    " \n",
    " \n",
    "    prev = corr_const * prev + (1 - corr_const) * np.random.normal(0, sigma) \n",
    " \n",
    " \n",
    "    err.append(prev) \n",
    " \n",
    " \n",
    "  return np.array(err) "
   ]
  },
  {
   "cell_type": "code",
   "execution_count": null,
   "id": "371f2768",
   "metadata": {},
   "outputs": [
    {
     "name": "stdout",
     "output_type": "stream",
     "text": [
      "Fraction significant (placebo, autocorrelated errors): 0.036748329621380846\n"
     ]
    }
   ],
   "source": [
    "#q4\n",
    "def make_error(corr_const, num):\n",
    "    sigma = 5 * 1 / np.sqrt((1 - corr_const)**2 / (1 - corr_const**2)) \n",
    "    err = []\n",
    "    prev = np.random.normal(0, sigma)\n",
    "    for n in range(num): \n",
    "        prev = corr_const * prev + (1 - corr_const) * np.random.normal(0, sigma) \n",
    "        err.append(prev) \n",
    "    return np.array(err)\n",
    "\n",
    "num = 1000\n",
    "event_time = int(num / 2)\n",
    "np.random.seed(0)\n",
    "R_market = np.random.normal(0, 1, num) + np.arange(num) / num\n",
    "error = make_error(0.9, num)\n",
    "R_target = 2 + R_market + error + (np.arange(num) == event_time + 1) * 2\n",
    "\n",
    "success = 0\n",
    "tested_times = 0\n",
    "\n",
    "for fictitious_event_time in range(100, num - 2):\n",
    "    results = sm.OLS(\n",
    "        R_target[:fictitious_event_time],\n",
    "        sm.add_constant(R_market[:fictitious_event_time])\n",
    "    ).fit()\n",
    "    resid = R_target - results.predict(sm.add_constant(R_market))\n",
    "    tval = resid[fictitious_event_time]/resid[:fictitious_event_time].std(ddof=2)\n",
    "\n",
    "    if abs(tval) > 1.96:\n",
    "        success += 1\n",
    "    tested_times += 1\n",
    "print(\"Fraction significant (placebo, autocorrelated errors):\", success / tested_times)"
   ]
  },
  {
   "cell_type": "code",
   "execution_count": null,
   "id": "a14b4cb1",
   "metadata": {},
   "outputs": [
    {
     "name": "stdout",
     "output_type": "stream",
     "text": [
      "Average fraction of placebo t_value > real t_value (autocorrelated errors): 0.4651\n"
     ]
    }
   ],
   "source": [
    "# ?\n",
    "def make_error(corr_const, num): \n",
    "    sigma = 5 * 1 / np.sqrt((1 - corr_const)**2 / (1 - corr_const**2)) \n",
    "    err = []\n",
    "    prev = np.random.normal(0, sigma)\n",
    "    for n in range(num):\n",
    "        prev = corr_const * prev + (1 - corr_const) * np.random.normal(0, sigma)\n",
    "        err.append(prev)\n",
    "    return np.array(err)\n",
    "\n",
    "num = 1000\n",
    "event_time = int(num / 2)\n",
    "n_sim = 500\n",
    "results = []\n",
    "\n",
    "for seed in range(n_sim):\n",
    "    np.random.seed(seed)\n",
    "    R_market = np.random.normal(0, 1, num) + np.arange(num) / num\n",
    "    error = make_error(0.9, num)\n",
    "    R_target = 2 + R_market + error + (np.arange(num) == event_time + 1) * 2\n",
    "    \n",
    "    model = sm.OLS(R_target[:event_time], sm.add_constant(R_market[:event_time])).fit()\n",
    "    resid = R_target - model.predict(sm.add_constant(R_market))\n",
    "    t_real = abs(resid[event_time + 1]/resid[:event_time].std(ddof=2))\n",
    "\n",
    "    count = 0\n",
    "    total = 0\n",
    "    for offset in range(-20, 21):\n",
    "        fake_time = event_time + offset\n",
    "        if fake_time == event_time + 1 or fake_time < 100 or fake_time > num - 3:\n",
    "            continue\n",
    "        model_fake = sm.OLS(R_target[:fake_time], sm.add_constant(R_market[:fake_time])).fit()\n",
    "        resid_fake = R_target - model_fake.predict(sm.add_constant(R_market))\n",
    "        t_fake = abs(resid_fake[fake_time]/resid_fake[:fake_time].std(ddof=2))\n",
    "        if t_fake > t_real:\n",
    "            count += 1\n",
    "        total += 1\n",
    "    results.append(count/total)\n",
    "\n",
    "print(\"Average fraction of placebo t_value > real t_value (autocorrelated errors):\", np.mean(results))\n"
   ]
  }
 ],
 "metadata": {
  "kernelspec": {
   "display_name": "Python 3",
   "language": "python",
   "name": "python3"
  },
  "language_info": {
   "codemirror_mode": {
    "name": "ipython",
    "version": 3
   },
   "file_extension": ".py",
   "mimetype": "text/x-python",
   "name": "python",
   "nbconvert_exporter": "python",
   "pygments_lexer": "ipython3",
   "version": "3.12.1"
  }
 },
 "nbformat": 4,
 "nbformat_minor": 5
}
