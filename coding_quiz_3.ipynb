{
 "cells": [
  {
   "cell_type": "code",
   "execution_count": 1,
   "id": "70262ba5",
   "metadata": {},
   "outputs": [],
   "source": [
    "from sklearn.linear_model import LinearRegression\n",
    "from sklearn.metrics import mean_squared_error, r2_score\n",
    "import pandas as pd\n",
    "import numpy as np\n",
    "import matplotlib.pyplot as plt\n",
    "import statsmodels.api as sm"
   ]
  },
  {
   "cell_type": "code",
   "execution_count": 2,
   "id": "3df6b916",
   "metadata": {},
   "outputs": [
    {
     "data": {
      "text/html": [
       "<div>\n",
       "<style scoped>\n",
       "    .dataframe tbody tr th:only-of-type {\n",
       "        vertical-align: middle;\n",
       "    }\n",
       "\n",
       "    .dataframe tbody tr th {\n",
       "        vertical-align: top;\n",
       "    }\n",
       "\n",
       "    .dataframe thead th {\n",
       "        text-align: right;\n",
       "    }\n",
       "</style>\n",
       "<table border=\"1\" class=\"dataframe\">\n",
       "  <thead>\n",
       "    <tr style=\"text-align: right;\">\n",
       "      <th></th>\n",
       "      <th>Unnamed: 0</th>\n",
       "      <th>time</th>\n",
       "      <th>value1</th>\n",
       "      <th>value2</th>\n",
       "      <th>value3</th>\n",
       "    </tr>\n",
       "  </thead>\n",
       "  <tbody>\n",
       "    <tr>\n",
       "      <th>0</th>\n",
       "      <td>0</td>\n",
       "      <td>0</td>\n",
       "      <td>1.764052</td>\n",
       "      <td>1.883151</td>\n",
       "      <td>-0.369182</td>\n",
       "    </tr>\n",
       "    <tr>\n",
       "      <th>1</th>\n",
       "      <td>1</td>\n",
       "      <td>1</td>\n",
       "      <td>0.420157</td>\n",
       "      <td>-1.327759</td>\n",
       "      <td>-0.219379</td>\n",
       "    </tr>\n",
       "    <tr>\n",
       "      <th>2</th>\n",
       "      <td>2</td>\n",
       "      <td>2</td>\n",
       "      <td>1.018738</td>\n",
       "      <td>-1.230485</td>\n",
       "      <td>1.139660</td>\n",
       "    </tr>\n",
       "    <tr>\n",
       "      <th>3</th>\n",
       "      <td>3</td>\n",
       "      <td>3</td>\n",
       "      <td>2.300893</td>\n",
       "      <td>1.029397</td>\n",
       "      <td>0.715264</td>\n",
       "    </tr>\n",
       "    <tr>\n",
       "      <th>4</th>\n",
       "      <td>4</td>\n",
       "      <td>4</td>\n",
       "      <td>1.947558</td>\n",
       "      <td>-1.093123</td>\n",
       "      <td>0.720132</td>\n",
       "    </tr>\n",
       "    <tr>\n",
       "      <th>5</th>\n",
       "      <td>5</td>\n",
       "      <td>5</td>\n",
       "      <td>-0.877278</td>\n",
       "      <td>2.043621</td>\n",
       "      <td>-1.516956</td>\n",
       "    </tr>\n",
       "    <tr>\n",
       "      <th>6</th>\n",
       "      <td>6</td>\n",
       "      <td>6</td>\n",
       "      <td>1.070088</td>\n",
       "      <td>-0.293619</td>\n",
       "      <td>0.095674</td>\n",
       "    </tr>\n",
       "    <tr>\n",
       "      <th>7</th>\n",
       "      <td>7</td>\n",
       "      <td>7</td>\n",
       "      <td>-0.011357</td>\n",
       "      <td>-0.607455</td>\n",
       "      <td>-0.598031</td>\n",
       "    </tr>\n",
       "    <tr>\n",
       "      <th>8</th>\n",
       "      <td>8</td>\n",
       "      <td>8</td>\n",
       "      <td>0.056781</td>\n",
       "      <td>2.082942</td>\n",
       "      <td>0.439925</td>\n",
       "    </tr>\n",
       "    <tr>\n",
       "      <th>9</th>\n",
       "      <td>9</td>\n",
       "      <td>9</td>\n",
       "      <td>0.590599</td>\n",
       "      <td>1.660515</td>\n",
       "      <td>0.081850</td>\n",
       "    </tr>\n",
       "  </tbody>\n",
       "</table>\n",
       "</div>"
      ],
      "text/plain": [
       "   Unnamed: 0  time    value1    value2    value3\n",
       "0           0     0  1.764052  1.883151 -0.369182\n",
       "1           1     1  0.420157 -1.327759 -0.219379\n",
       "2           2     2  1.018738 -1.230485  1.139660\n",
       "3           3     3  2.300893  1.029397  0.715264\n",
       "4           4     4  1.947558 -1.093123  0.720132\n",
       "5           5     5 -0.877278  2.043621 -1.516956\n",
       "6           6     6  1.070088 -0.293619  0.095674\n",
       "7           7     7 -0.011357 -0.607455 -0.598031\n",
       "8           8     8  0.056781  2.082942  0.439925\n",
       "9           9     9  0.590599  1.660515  0.081850"
      ]
     },
     "execution_count": 2,
     "metadata": {},
     "output_type": "execute_result"
    }
   ],
   "source": [
    "df_1 = pd.read_csv(\"homework_3.1.csv\")\n",
    "df_1.head(10)"
   ]
  },
  {
   "cell_type": "code",
   "execution_count": 3,
   "id": "d47d9b92",
   "metadata": {},
   "outputs": [
    {
     "name": "stdout",
     "output_type": "stream",
     "text": [
      "       R_squared                                             params\n",
      "value3  0.734688  const      -0.945642\n",
      "time        0.062791\n",
      "even...\n",
      "value1  0.650851  const      -0.629894\n",
      "time        0.056630\n",
      "even...\n",
      "value2  0.531161  const      -0.115035\n",
      "time        0.039012\n",
      "even...\n"
     ]
    }
   ],
   "source": [
    "df_1[\"event_50\"] = (df_1[\"time\"] == 50).astype(int)\n",
    "\n",
    "def run_point_jump_model(y_column):\n",
    "    X = sm.add_constant(df_1[[\"time\", \"event_50\"]])\n",
    "    y = df_1[y_column]\n",
    "    model = sm.OLS(y, X).fit()\n",
    "    return model.rsquared, model.params\n",
    "\n",
    "results = {}\n",
    "for col in [\"value1\", \"value2\",\"value3\"]:\n",
    "    r2, params = run_point_jump_model(col)\n",
    "    results[col] = {\"R_squared\": r2, \"params\": params}\n",
    "\n",
    "results_df_1 = pd.DataFrame(results).T.sort_values(by=\"R_squared\", ascending = False)\n",
    "print(results_df_1)"
   ]
  },
  {
   "cell_type": "code",
   "execution_count": 4,
   "id": "d6e1cbe2",
   "metadata": {},
   "outputs": [],
   "source": [
    "df_2a = pd.read_csv(\"homework_3.2.a.csv\")\n",
    "df_2b = pd.read_csv(\"homework_3.2.b.csv\")"
   ]
  },
  {
   "cell_type": "code",
   "execution_count": 5,
   "id": "aadb528a",
   "metadata": {},
   "outputs": [
    {
     "data": {
      "text/html": [
       "<div>\n",
       "<style scoped>\n",
       "    .dataframe tbody tr th:only-of-type {\n",
       "        vertical-align: middle;\n",
       "    }\n",
       "\n",
       "    .dataframe tbody tr th {\n",
       "        vertical-align: top;\n",
       "    }\n",
       "\n",
       "    .dataframe thead th {\n",
       "        text-align: right;\n",
       "    }\n",
       "</style>\n",
       "<table border=\"1\" class=\"dataframe\">\n",
       "  <thead>\n",
       "    <tr style=\"text-align: right;\">\n",
       "      <th></th>\n",
       "      <th>Unnamed: 0</th>\n",
       "      <th>group1</th>\n",
       "      <th>time1</th>\n",
       "      <th>outcome1</th>\n",
       "    </tr>\n",
       "  </thead>\n",
       "  <tbody>\n",
       "    <tr>\n",
       "      <th>0</th>\n",
       "      <td>0</td>\n",
       "      <td>0</td>\n",
       "      <td>0</td>\n",
       "      <td>0.882026</td>\n",
       "    </tr>\n",
       "    <tr>\n",
       "      <th>1</th>\n",
       "      <td>1</td>\n",
       "      <td>0</td>\n",
       "      <td>1</td>\n",
       "      <td>1.600079</td>\n",
       "    </tr>\n",
       "    <tr>\n",
       "      <th>2</th>\n",
       "      <td>2</td>\n",
       "      <td>0</td>\n",
       "      <td>0</td>\n",
       "      <td>0.489369</td>\n",
       "    </tr>\n",
       "    <tr>\n",
       "      <th>3</th>\n",
       "      <td>3</td>\n",
       "      <td>0</td>\n",
       "      <td>1</td>\n",
       "      <td>2.520447</td>\n",
       "    </tr>\n",
       "    <tr>\n",
       "      <th>4</th>\n",
       "      <td>4</td>\n",
       "      <td>0</td>\n",
       "      <td>0</td>\n",
       "      <td>0.933779</td>\n",
       "    </tr>\n",
       "  </tbody>\n",
       "</table>\n",
       "</div>"
      ],
      "text/plain": [
       "   Unnamed: 0  group1  time1  outcome1\n",
       "0           0       0      0  0.882026\n",
       "1           1       0      1  1.600079\n",
       "2           2       0      0  0.489369\n",
       "3           3       0      1  2.520447\n",
       "4           4       0      0  0.933779"
      ]
     },
     "execution_count": 5,
     "metadata": {},
     "output_type": "execute_result"
    }
   ],
   "source": [
    "df_2a.head(5)"
   ]
  },
  {
   "cell_type": "code",
   "execution_count": 6,
   "id": "2ad3fcb8",
   "metadata": {},
   "outputs": [
    {
     "data": {
      "text/html": [
       "<div>\n",
       "<style scoped>\n",
       "    .dataframe tbody tr th:only-of-type {\n",
       "        vertical-align: middle;\n",
       "    }\n",
       "\n",
       "    .dataframe tbody tr th {\n",
       "        vertical-align: top;\n",
       "    }\n",
       "\n",
       "    .dataframe thead th {\n",
       "        text-align: right;\n",
       "    }\n",
       "</style>\n",
       "<table border=\"1\" class=\"dataframe\">\n",
       "  <thead>\n",
       "    <tr style=\"text-align: right;\">\n",
       "      <th></th>\n",
       "      <th>Unnamed: 0</th>\n",
       "      <th>group2</th>\n",
       "      <th>time2</th>\n",
       "      <th>outcome2</th>\n",
       "    </tr>\n",
       "  </thead>\n",
       "  <tbody>\n",
       "    <tr>\n",
       "      <th>0</th>\n",
       "      <td>0</td>\n",
       "      <td>0</td>\n",
       "      <td>0</td>\n",
       "      <td>0.667155</td>\n",
       "    </tr>\n",
       "    <tr>\n",
       "      <th>1</th>\n",
       "      <td>1</td>\n",
       "      <td>0</td>\n",
       "      <td>1</td>\n",
       "      <td>2.470969</td>\n",
       "    </tr>\n",
       "    <tr>\n",
       "      <th>2</th>\n",
       "      <td>2</td>\n",
       "      <td>0</td>\n",
       "      <td>0</td>\n",
       "      <td>-0.506778</td>\n",
       "    </tr>\n",
       "    <tr>\n",
       "      <th>3</th>\n",
       "      <td>3</td>\n",
       "      <td>0</td>\n",
       "      <td>1</td>\n",
       "      <td>1.525657</td>\n",
       "    </tr>\n",
       "    <tr>\n",
       "      <th>4</th>\n",
       "      <td>4</td>\n",
       "      <td>0</td>\n",
       "      <td>0</td>\n",
       "      <td>0.273664</td>\n",
       "    </tr>\n",
       "  </tbody>\n",
       "</table>\n",
       "</div>"
      ],
      "text/plain": [
       "   Unnamed: 0  group2  time2  outcome2\n",
       "0           0       0      0  0.667155\n",
       "1           1       0      1  2.470969\n",
       "2           2       0      0 -0.506778\n",
       "3           3       0      1  1.525657\n",
       "4           4       0      0  0.273664"
      ]
     },
     "execution_count": 6,
     "metadata": {},
     "output_type": "execute_result"
    }
   ],
   "source": [
    "df_2b.head(5)"
   ]
  },
  {
   "cell_type": "code",
   "execution_count": 7,
   "id": "bc6b680b",
   "metadata": {},
   "outputs": [],
   "source": [
    "df_2a[\"interaction\"] = df_2a[\"group1\"] * df_2a[\"time1\"]\n",
    "df_2b[\"interaction\"] = df_2b[\"group2\"] * df_2b[\"time2\"]"
   ]
  },
  {
   "cell_type": "code",
   "execution_count": 9,
   "id": "939ec280",
   "metadata": {},
   "outputs": [
    {
     "name": "stdout",
     "output_type": "stream",
     "text": [
      "Dataset 1 Treatment Effect: 0.6858469689928821\n",
      "Dataset 2 Treatment Effect: 1.3498589246939923\n"
     ]
    }
   ],
   "source": [
    "import statsmodels.formula.api as smf\n",
    "model1 = smf.ols(\"outcome1 ~ group1 + time1 + interaction\", data=df_2a).fit()\n",
    "model2 = smf.ols(\"outcome2 ~ group2 + time2 + interaction\", data=df_2b).fit()\n",
    "\n",
    "\n",
    "print(f\"Dataset 1 Treatment Effect: {model1.params['interaction']}\")\n",
    "\n",
    "\n",
    "print(f\"Dataset 2 Treatment Effect: {model2.params['interaction']}\")"
   ]
  },
  {
   "cell_type": "code",
   "execution_count": 12,
   "id": "6c84b707",
   "metadata": {},
   "outputs": [
    {
     "name": "stdout",
     "output_type": "stream",
     "text": [
      "Model 1 p value : 1.640050297911803e-26, Model 2 p value: 2.432436181923841e-19\n",
      "Model 1 standard error : 0.06252245270152706, Model 2 standard error : 0.1470470684853622\n",
      "Model 1 treatment effect : 0.6858469689928821, Model 2 treatment effect : 1.3498589246939923\n"
     ]
    }
   ],
   "source": [
    "treatment1 = model1.params[\"interaction\"]\n",
    "se1 = model1.bse[\"interaction\"]\n",
    "pval1 = model1.pvalues[\"interaction\"]\n",
    "\n",
    "treatment2 = model2.params[\"interaction\"]\n",
    "se2 = model2.bse[\"interaction\"]\n",
    "pval2 = model2.pvalues[\"interaction\"]\n",
    "print(f\"Model 1 p value : {pval1}, Model 2 p value: {pval2}\")\n",
    "print(f\"Model 1 standard error : {se1}, Model 2 standard error : {se2}\")\n",
    "print(f\"Model 1 treatment effect : {treatment1}, Model 2 treatment effect : {treatment2}\")"
   ]
  }
 ],
 "metadata": {
  "kernelspec": {
   "display_name": "Python 3",
   "language": "python",
   "name": "python3"
  },
  "language_info": {
   "codemirror_mode": {
    "name": "ipython",
    "version": 3
   },
   "file_extension": ".py",
   "mimetype": "text/x-python",
   "name": "python",
   "nbconvert_exporter": "python",
   "pygments_lexer": "ipython3",
   "version": "3.12.1"
  }
 },
 "nbformat": 4,
 "nbformat_minor": 5
}
