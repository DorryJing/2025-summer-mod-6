{
 "cells": [
  {
   "cell_type": "code",
   "execution_count": 1,
   "id": "70262ba5",
   "metadata": {},
   "outputs": [],
   "source": [
    "from sklearn.linear_model import LinearRegression\n",
    "from sklearn.metrics import mean_squared_error, r2_score\n",
    "import pandas as pd\n",
    "import numpy as np\n",
    "import matplotlib.pyplot as plt\n",
    "import statsmodels.api as sm"
   ]
  },
  {
   "cell_type": "code",
   "execution_count": 2,
   "id": "3df6b916",
   "metadata": {},
   "outputs": [
    {
     "data": {
      "text/html": [
       "<div>\n",
       "<style scoped>\n",
       "    .dataframe tbody tr th:only-of-type {\n",
       "        vertical-align: middle;\n",
       "    }\n",
       "\n",
       "    .dataframe tbody tr th {\n",
       "        vertical-align: top;\n",
       "    }\n",
       "\n",
       "    .dataframe thead th {\n",
       "        text-align: right;\n",
       "    }\n",
       "</style>\n",
       "<table border=\"1\" class=\"dataframe\">\n",
       "  <thead>\n",
       "    <tr style=\"text-align: right;\">\n",
       "      <th></th>\n",
       "      <th>Unnamed: 0</th>\n",
       "      <th>time</th>\n",
       "      <th>value1</th>\n",
       "      <th>value2</th>\n",
       "      <th>value3</th>\n",
       "    </tr>\n",
       "  </thead>\n",
       "  <tbody>\n",
       "    <tr>\n",
       "      <th>0</th>\n",
       "      <td>0</td>\n",
       "      <td>0</td>\n",
       "      <td>1.764052</td>\n",
       "      <td>1.883151</td>\n",
       "      <td>-0.369182</td>\n",
       "    </tr>\n",
       "    <tr>\n",
       "      <th>1</th>\n",
       "      <td>1</td>\n",
       "      <td>1</td>\n",
       "      <td>0.420157</td>\n",
       "      <td>-1.327759</td>\n",
       "      <td>-0.219379</td>\n",
       "    </tr>\n",
       "    <tr>\n",
       "      <th>2</th>\n",
       "      <td>2</td>\n",
       "      <td>2</td>\n",
       "      <td>1.018738</td>\n",
       "      <td>-1.230485</td>\n",
       "      <td>1.139660</td>\n",
       "    </tr>\n",
       "    <tr>\n",
       "      <th>3</th>\n",
       "      <td>3</td>\n",
       "      <td>3</td>\n",
       "      <td>2.300893</td>\n",
       "      <td>1.029397</td>\n",
       "      <td>0.715264</td>\n",
       "    </tr>\n",
       "    <tr>\n",
       "      <th>4</th>\n",
       "      <td>4</td>\n",
       "      <td>4</td>\n",
       "      <td>1.947558</td>\n",
       "      <td>-1.093123</td>\n",
       "      <td>0.720132</td>\n",
       "    </tr>\n",
       "    <tr>\n",
       "      <th>5</th>\n",
       "      <td>5</td>\n",
       "      <td>5</td>\n",
       "      <td>-0.877278</td>\n",
       "      <td>2.043621</td>\n",
       "      <td>-1.516956</td>\n",
       "    </tr>\n",
       "    <tr>\n",
       "      <th>6</th>\n",
       "      <td>6</td>\n",
       "      <td>6</td>\n",
       "      <td>1.070088</td>\n",
       "      <td>-0.293619</td>\n",
       "      <td>0.095674</td>\n",
       "    </tr>\n",
       "    <tr>\n",
       "      <th>7</th>\n",
       "      <td>7</td>\n",
       "      <td>7</td>\n",
       "      <td>-0.011357</td>\n",
       "      <td>-0.607455</td>\n",
       "      <td>-0.598031</td>\n",
       "    </tr>\n",
       "    <tr>\n",
       "      <th>8</th>\n",
       "      <td>8</td>\n",
       "      <td>8</td>\n",
       "      <td>0.056781</td>\n",
       "      <td>2.082942</td>\n",
       "      <td>0.439925</td>\n",
       "    </tr>\n",
       "    <tr>\n",
       "      <th>9</th>\n",
       "      <td>9</td>\n",
       "      <td>9</td>\n",
       "      <td>0.590599</td>\n",
       "      <td>1.660515</td>\n",
       "      <td>0.081850</td>\n",
       "    </tr>\n",
       "  </tbody>\n",
       "</table>\n",
       "</div>"
      ],
      "text/plain": [
       "   Unnamed: 0  time    value1    value2    value3\n",
       "0           0     0  1.764052  1.883151 -0.369182\n",
       "1           1     1  0.420157 -1.327759 -0.219379\n",
       "2           2     2  1.018738 -1.230485  1.139660\n",
       "3           3     3  2.300893  1.029397  0.715264\n",
       "4           4     4  1.947558 -1.093123  0.720132\n",
       "5           5     5 -0.877278  2.043621 -1.516956\n",
       "6           6     6  1.070088 -0.293619  0.095674\n",
       "7           7     7 -0.011357 -0.607455 -0.598031\n",
       "8           8     8  0.056781  2.082942  0.439925\n",
       "9           9     9  0.590599  1.660515  0.081850"
      ]
     },
     "execution_count": 2,
     "metadata": {},
     "output_type": "execute_result"
    }
   ],
   "source": [
    "df_1 = pd.read_csv(\"homework_3.1.csv\")\n",
    "df_1.head(10)"
   ]
  },
  {
   "cell_type": "code",
   "execution_count": 3,
   "id": "d47d9b92",
   "metadata": {},
   "outputs": [
    {
     "name": "stdout",
     "output_type": "stream",
     "text": [
      "       R_squared                                             params\n",
      "value3  0.734688  const      -0.945642\n",
      "time        0.062791\n",
      "even...\n",
      "value1  0.650851  const      -0.629894\n",
      "time        0.056630\n",
      "even...\n",
      "value2  0.531161  const      -0.115035\n",
      "time        0.039012\n",
      "even...\n"
     ]
    }
   ],
   "source": [
    "df_1[\"event_50\"] = (df_1[\"time\"] == 50).astype(int)\n",
    "\n",
    "def run_point_jump_model(y_column):\n",
    "    X = sm.add_constant(df_1[[\"time\", \"event_50\"]])\n",
    "    y = df_1[y_column]\n",
    "    model = sm.OLS(y, X).fit()\n",
    "    return model.rsquared, model.params\n",
    "\n",
    "results = {}\n",
    "for col in [\"value1\", \"value2\",\"value3\"]:\n",
    "    r2, params = run_point_jump_model(col)\n",
    "    results[col] = {\"R_squared\": r2, \"params\": params}\n",
    "\n",
    "results_df_1 = pd.DataFrame(results).T.sort_values(by=\"R_squared\", ascending = False)\n",
    "print(results_df_1)"
   ]
  },
  {
   "cell_type": "code",
   "execution_count": 4,
   "id": "d6e1cbe2",
   "metadata": {},
   "outputs": [],
   "source": [
    "df_2a = pd.read_csv(\"homework_3.2.a.csv\")\n",
    "df_2b = pd.read_csv(\"homework_3.2.b.csv\")"
   ]
  },
  {
   "cell_type": "code",
   "execution_count": 5,
   "id": "aadb528a",
   "metadata": {},
   "outputs": [
    {
     "data": {
      "text/html": [
       "<div>\n",
       "<style scoped>\n",
       "    .dataframe tbody tr th:only-of-type {\n",
       "        vertical-align: middle;\n",
       "    }\n",
       "\n",
       "    .dataframe tbody tr th {\n",
       "        vertical-align: top;\n",
       "    }\n",
       "\n",
       "    .dataframe thead th {\n",
       "        text-align: right;\n",
       "    }\n",
       "</style>\n",
       "<table border=\"1\" class=\"dataframe\">\n",
       "  <thead>\n",
       "    <tr style=\"text-align: right;\">\n",
       "      <th></th>\n",
       "      <th>Unnamed: 0</th>\n",
       "      <th>group1</th>\n",
       "      <th>time1</th>\n",
       "      <th>outcome1</th>\n",
       "    </tr>\n",
       "  </thead>\n",
       "  <tbody>\n",
       "    <tr>\n",
       "      <th>0</th>\n",
       "      <td>0</td>\n",
       "      <td>0</td>\n",
       "      <td>0</td>\n",
       "      <td>0.882026</td>\n",
       "    </tr>\n",
       "    <tr>\n",
       "      <th>1</th>\n",
       "      <td>1</td>\n",
       "      <td>0</td>\n",
       "      <td>1</td>\n",
       "      <td>1.600079</td>\n",
       "    </tr>\n",
       "    <tr>\n",
       "      <th>2</th>\n",
       "      <td>2</td>\n",
       "      <td>0</td>\n",
       "      <td>0</td>\n",
       "      <td>0.489369</td>\n",
       "    </tr>\n",
       "    <tr>\n",
       "      <th>3</th>\n",
       "      <td>3</td>\n",
       "      <td>0</td>\n",
       "      <td>1</td>\n",
       "      <td>2.520447</td>\n",
       "    </tr>\n",
       "    <tr>\n",
       "      <th>4</th>\n",
       "      <td>4</td>\n",
       "      <td>0</td>\n",
       "      <td>0</td>\n",
       "      <td>0.933779</td>\n",
       "    </tr>\n",
       "  </tbody>\n",
       "</table>\n",
       "</div>"
      ],
      "text/plain": [
       "   Unnamed: 0  group1  time1  outcome1\n",
       "0           0       0      0  0.882026\n",
       "1           1       0      1  1.600079\n",
       "2           2       0      0  0.489369\n",
       "3           3       0      1  2.520447\n",
       "4           4       0      0  0.933779"
      ]
     },
     "execution_count": 5,
     "metadata": {},
     "output_type": "execute_result"
    }
   ],
   "source": [
    "df_2a.head(5)"
   ]
  },
  {
   "cell_type": "code",
   "execution_count": 6,
   "id": "2ad3fcb8",
   "metadata": {},
   "outputs": [
    {
     "data": {
      "text/html": [
       "<div>\n",
       "<style scoped>\n",
       "    .dataframe tbody tr th:only-of-type {\n",
       "        vertical-align: middle;\n",
       "    }\n",
       "\n",
       "    .dataframe tbody tr th {\n",
       "        vertical-align: top;\n",
       "    }\n",
       "\n",
       "    .dataframe thead th {\n",
       "        text-align: right;\n",
       "    }\n",
       "</style>\n",
       "<table border=\"1\" class=\"dataframe\">\n",
       "  <thead>\n",
       "    <tr style=\"text-align: right;\">\n",
       "      <th></th>\n",
       "      <th>Unnamed: 0</th>\n",
       "      <th>group2</th>\n",
       "      <th>time2</th>\n",
       "      <th>outcome2</th>\n",
       "    </tr>\n",
       "  </thead>\n",
       "  <tbody>\n",
       "    <tr>\n",
       "      <th>0</th>\n",
       "      <td>0</td>\n",
       "      <td>0</td>\n",
       "      <td>0</td>\n",
       "      <td>0.667155</td>\n",
       "    </tr>\n",
       "    <tr>\n",
       "      <th>1</th>\n",
       "      <td>1</td>\n",
       "      <td>0</td>\n",
       "      <td>1</td>\n",
       "      <td>2.470969</td>\n",
       "    </tr>\n",
       "    <tr>\n",
       "      <th>2</th>\n",
       "      <td>2</td>\n",
       "      <td>0</td>\n",
       "      <td>0</td>\n",
       "      <td>-0.506778</td>\n",
       "    </tr>\n",
       "    <tr>\n",
       "      <th>3</th>\n",
       "      <td>3</td>\n",
       "      <td>0</td>\n",
       "      <td>1</td>\n",
       "      <td>1.525657</td>\n",
       "    </tr>\n",
       "    <tr>\n",
       "      <th>4</th>\n",
       "      <td>4</td>\n",
       "      <td>0</td>\n",
       "      <td>0</td>\n",
       "      <td>0.273664</td>\n",
       "    </tr>\n",
       "  </tbody>\n",
       "</table>\n",
       "</div>"
      ],
      "text/plain": [
       "   Unnamed: 0  group2  time2  outcome2\n",
       "0           0       0      0  0.667155\n",
       "1           1       0      1  2.470969\n",
       "2           2       0      0 -0.506778\n",
       "3           3       0      1  1.525657\n",
       "4           4       0      0  0.273664"
      ]
     },
     "execution_count": 6,
     "metadata": {},
     "output_type": "execute_result"
    }
   ],
   "source": [
    "df_2b.head(5)"
   ]
  },
  {
   "cell_type": "code",
   "execution_count": 7,
   "id": "bc6b680b",
   "metadata": {},
   "outputs": [],
   "source": [
    "df_2a[\"interaction\"] = df_2a[\"group1\"] * df_2a[\"time1\"]\n",
    "df_2b[\"interaction\"] = df_2b[\"group2\"] * df_2b[\"time2\"]"
   ]
  },
  {
   "cell_type": "code",
   "execution_count": 8,
   "id": "939ec280",
   "metadata": {},
   "outputs": [
    {
     "name": "stdout",
     "output_type": "stream",
     "text": [
      "Dataset 1 Treatment Effect: 0.6858469689928821\n",
      "Dataset 2 Treatment Effect: 1.3498589246939923\n"
     ]
    }
   ],
   "source": [
    "import statsmodels.formula.api as smf\n",
    "model1 = smf.ols(\"outcome1 ~ group1 + time1 + interaction\", data=df_2a).fit()\n",
    "model2 = smf.ols(\"outcome2 ~ group2 + time2 + interaction\", data=df_2b).fit()\n",
    "\n",
    "\n",
    "print(f\"Dataset 1 Treatment Effect: {model1.params['interaction']}\")\n",
    "\n",
    "\n",
    "print(f\"Dataset 2 Treatment Effect: {model2.params['interaction']}\")"
   ]
  },
  {
   "cell_type": "code",
   "execution_count": 9,
   "id": "6c84b707",
   "metadata": {},
   "outputs": [
    {
     "name": "stdout",
     "output_type": "stream",
     "text": [
      "Model 1 p value : 1.640050297911803e-26, Model 2 p value: 2.432436181923841e-19\n",
      "Model 1 standard error : 0.06252245270152706, Model 2 standard error : 0.1470470684853622\n",
      "Model 1 treatment effect : 0.6858469689928821, Model 2 treatment effect : 1.3498589246939923\n"
     ]
    }
   ],
   "source": [
    "treatment1 = model1.params[\"interaction\"]\n",
    "se1 = model1.bse[\"interaction\"]\n",
    "pval1 = model1.pvalues[\"interaction\"]\n",
    "\n",
    "treatment2 = model2.params[\"interaction\"]\n",
    "se2 = model2.bse[\"interaction\"]\n",
    "pval2 = model2.pvalues[\"interaction\"]\n",
    "print(f\"Model 1 p value : {pval1}, Model 2 p value: {pval2}\")\n",
    "print(f\"Model 1 standard error : {se1}, Model 2 standard error : {se2}\")\n",
    "print(f\"Model 1 treatment effect : {treatment1}, Model 2 treatment effect : {treatment2}\")"
   ]
  },
  {
   "cell_type": "code",
   "execution_count": null,
   "id": "f6d01e6b",
   "metadata": {},
   "outputs": [],
   "source": [
    "df_2a[\"time1_squared\"] = df_2a[\"time1\"] ** 2\n",
    "df_2a[\"interaction_squared\"] = df_2a[\"group1\"] * df_2a[\"time1_squared\"]\n",
    "\n",
    "\n",
    "df_2b[\"time2_squared\"] = df_2b[\"time2\"] ** 2\n",
    "df_2b[\"interaction_squared\"] = df_2b[\"group2\"] * df_2b[\"time2_squared\"]\n"
   ]
  },
  {
   "cell_type": "code",
   "execution_count": 11,
   "id": "4bb4c7d9",
   "metadata": {},
   "outputs": [
    {
     "name": "stdout",
     "output_type": "stream",
     "text": [
      "Dataset 1 2nd Derivative Change: 0.34292348449644705\n",
      "Dataset 2 2nd Derivative Change: 0.6749294623470038\n"
     ]
    }
   ],
   "source": [
    "model1 = smf.ols(\"outcome1 ~ group1 + time1 + time1_squared + interaction + interaction_squared\", data=df_2a).fit()\n",
    "model2 = smf.ols(\"outcome2 ~ group2 + time2 + time2_squared + interaction + interaction_squared\", data=df_2b).fit()\n",
    "print(f\"Dataset 1 2nd Derivative Change: {model1.params['interaction_squared']}\")\n",
    "print(f\"Dataset 2 2nd Derivative Change: {model2.params['interaction_squared']}\")\n"
   ]
  },
  {
   "cell_type": "code",
   "execution_count": 12,
   "id": "e50816cd",
   "metadata": {},
   "outputs": [],
   "source": [
    "import pandas as pd\n",
    "\n",
    "data = {\n",
    "    'farm': ['Farm A', 'Farm A', 'Farm A', 'Farm B', 'Farm B', 'Farm B'],\n",
    "    'time_period': ['before', 'after', 'after', 'before', 'after', 'after'],\n",
    "    'group': ['treatment', 'treatment', 'treatment', 'control', 'control', 'control'],\n",
    "    'milk_per_cow': [22.0, 24.0, 24.1, 22.1, 22.2, 22.0]\n",
    "}\n",
    "\n",
    "df = pd.DataFrame(data)\n"
   ]
  },
  {
   "cell_type": "code",
   "execution_count": 13,
   "id": "5d513463",
   "metadata": {},
   "outputs": [
    {
     "data": {
      "text/html": [
       "<div>\n",
       "<style scoped>\n",
       "    .dataframe tbody tr th:only-of-type {\n",
       "        vertical-align: middle;\n",
       "    }\n",
       "\n",
       "    .dataframe tbody tr th {\n",
       "        vertical-align: top;\n",
       "    }\n",
       "\n",
       "    .dataframe thead th {\n",
       "        text-align: right;\n",
       "    }\n",
       "</style>\n",
       "<table border=\"1\" class=\"dataframe\">\n",
       "  <thead>\n",
       "    <tr style=\"text-align: right;\">\n",
       "      <th></th>\n",
       "      <th>farm</th>\n",
       "      <th>time_period</th>\n",
       "      <th>group</th>\n",
       "      <th>milk_per_cow</th>\n",
       "    </tr>\n",
       "  </thead>\n",
       "  <tbody>\n",
       "    <tr>\n",
       "      <th>0</th>\n",
       "      <td>Farm A</td>\n",
       "      <td>before</td>\n",
       "      <td>treatment</td>\n",
       "      <td>22.0</td>\n",
       "    </tr>\n",
       "    <tr>\n",
       "      <th>1</th>\n",
       "      <td>Farm A</td>\n",
       "      <td>after</td>\n",
       "      <td>treatment</td>\n",
       "      <td>24.0</td>\n",
       "    </tr>\n",
       "    <tr>\n",
       "      <th>2</th>\n",
       "      <td>Farm A</td>\n",
       "      <td>after</td>\n",
       "      <td>treatment</td>\n",
       "      <td>24.1</td>\n",
       "    </tr>\n",
       "    <tr>\n",
       "      <th>3</th>\n",
       "      <td>Farm B</td>\n",
       "      <td>before</td>\n",
       "      <td>control</td>\n",
       "      <td>22.1</td>\n",
       "    </tr>\n",
       "    <tr>\n",
       "      <th>4</th>\n",
       "      <td>Farm B</td>\n",
       "      <td>after</td>\n",
       "      <td>control</td>\n",
       "      <td>22.2</td>\n",
       "    </tr>\n",
       "    <tr>\n",
       "      <th>5</th>\n",
       "      <td>Farm B</td>\n",
       "      <td>after</td>\n",
       "      <td>control</td>\n",
       "      <td>22.0</td>\n",
       "    </tr>\n",
       "  </tbody>\n",
       "</table>\n",
       "</div>"
      ],
      "text/plain": [
       "     farm time_period      group  milk_per_cow\n",
       "0  Farm A      before  treatment          22.0\n",
       "1  Farm A       after  treatment          24.0\n",
       "2  Farm A       after  treatment          24.1\n",
       "3  Farm B      before    control          22.1\n",
       "4  Farm B       after    control          22.2\n",
       "5  Farm B       after    control          22.0"
      ]
     },
     "execution_count": 13,
     "metadata": {},
     "output_type": "execute_result"
    }
   ],
   "source": [
    "df"
   ]
  },
  {
   "cell_type": "code",
   "execution_count": 14,
   "id": "7a4fb1ef",
   "metadata": {},
   "outputs": [],
   "source": [
    "df['post'] = (df['time_period'] == 'after').astype(int)\n",
    "df['treated'] = (df['group'] == 'treatment').astype(int)\n",
    "df['interaction'] = df['post'] * df['treated']\n"
   ]
  },
  {
   "cell_type": "code",
   "execution_count": 15,
   "id": "20cda8da",
   "metadata": {},
   "outputs": [
    {
     "name": "stdout",
     "output_type": "stream",
     "text": [
      "                            OLS Regression Results                            \n",
      "==============================================================================\n",
      "Dep. Variable:           milk_per_cow   R-squared:                       0.995\n",
      "Model:                            OLS   Adj. R-squared:                  0.988\n",
      "Method:                 Least Squares   F-statistic:                     138.9\n",
      "Date:                Thu, 12 Jun 2025   Prob (F-statistic):            0.00716\n",
      "Time:                        15:05:42   Log-Likelihood:                 7.9283\n",
      "No. Observations:                   6   AIC:                            -7.857\n",
      "Df Residuals:                       2   BIC:                            -8.690\n",
      "Df Model:                           3                                         \n",
      "Covariance Type:            nonrobust                                         \n",
      "===============================================================================\n",
      "                  coef    std err          t      P>|t|      [0.025      0.975]\n",
      "-------------------------------------------------------------------------------\n",
      "Intercept      22.1000      0.112    197.668      0.000      21.619      22.581\n",
      "treated        -0.1000      0.158     -0.632      0.592      -0.780       0.580\n",
      "post                 0      0.137          0      1.000      -0.589       0.589\n",
      "interaction     2.0500      0.194     10.586      0.009       1.217       2.883\n",
      "==============================================================================\n",
      "Omnibus:                          nan   Durbin-Watson:                   2.600\n",
      "Prob(Omnibus):                    nan   Jarque-Bera (JB):                0.230\n",
      "Skew:                           0.000   Prob(JB):                        0.891\n",
      "Kurtosis:                       2.040   Cond. No.                         8.44\n",
      "==============================================================================\n",
      "\n",
      "Notes:\n",
      "[1] Standard Errors assume that the covariance matrix of the errors is correctly specified.\n"
     ]
    },
    {
     "name": "stderr",
     "output_type": "stream",
     "text": [
      "/usr/local/python/3.12.1/lib/python3.12/site-packages/statsmodels/stats/stattools.py:74: ValueWarning: omni_normtest is not valid with less than 8 observations; 6 samples were given.\n",
      "  warn(\"omni_normtest is not valid with less than 8 observations; %i \"\n"
     ]
    }
   ],
   "source": [
    "import statsmodels.formula.api as smf\n",
    "\n",
    "model = smf.ols(\"milk_per_cow ~ treated + post + interaction\", data=df).fit()\n",
    "print(model.summary())\n"
   ]
  }
 ],
 "metadata": {
  "kernelspec": {
   "display_name": "Python 3",
   "language": "python",
   "name": "python3"
  },
  "language_info": {
   "codemirror_mode": {
    "name": "ipython",
    "version": 3
   },
   "file_extension": ".py",
   "mimetype": "text/x-python",
   "name": "python",
   "nbconvert_exporter": "python",
   "pygments_lexer": "ipython3",
   "version": "3.12.1"
  }
 },
 "nbformat": 4,
 "nbformat_minor": 5
}
