{
 "cells": [
  {
   "cell_type": "code",
   "execution_count": 1,
   "id": "ec1e765a",
   "metadata": {},
   "outputs": [],
   "source": [
    "import pandas as pd\n",
    "import statsmodels.formula.api as smf"
   ]
  },
  {
   "cell_type": "code",
   "execution_count": 2,
   "id": "c7d71566",
   "metadata": {},
   "outputs": [
    {
     "data": {
      "text/html": [
       "<div>\n",
       "<style scoped>\n",
       "    .dataframe tbody tr th:only-of-type {\n",
       "        vertical-align: middle;\n",
       "    }\n",
       "\n",
       "    .dataframe tbody tr th {\n",
       "        vertical-align: top;\n",
       "    }\n",
       "\n",
       "    .dataframe thead th {\n",
       "        text-align: right;\n",
       "    }\n",
       "</style>\n",
       "<table border=\"1\" class=\"dataframe\">\n",
       "  <thead>\n",
       "    <tr style=\"text-align: right;\">\n",
       "      <th></th>\n",
       "      <th>Unnamed: 0</th>\n",
       "      <th>Y</th>\n",
       "      <th>Time</th>\n",
       "      <th>Group</th>\n",
       "    </tr>\n",
       "  </thead>\n",
       "  <tbody>\n",
       "    <tr>\n",
       "      <th>0</th>\n",
       "      <td>0</td>\n",
       "      <td>-0.232900</td>\n",
       "      <td>-1.193204</td>\n",
       "      <td>0</td>\n",
       "    </tr>\n",
       "    <tr>\n",
       "      <th>1</th>\n",
       "      <td>1</td>\n",
       "      <td>2.848846</td>\n",
       "      <td>-1.607748</td>\n",
       "      <td>1</td>\n",
       "    </tr>\n",
       "    <tr>\n",
       "      <th>2</th>\n",
       "      <td>2</td>\n",
       "      <td>0.550209</td>\n",
       "      <td>-0.269793</td>\n",
       "      <td>0</td>\n",
       "    </tr>\n",
       "    <tr>\n",
       "      <th>3</th>\n",
       "      <td>3</td>\n",
       "      <td>2.198280</td>\n",
       "      <td>7.743730</td>\n",
       "      <td>0</td>\n",
       "    </tr>\n",
       "    <tr>\n",
       "      <th>4</th>\n",
       "      <td>4</td>\n",
       "      <td>4.111044</td>\n",
       "      <td>-4.244359</td>\n",
       "      <td>1</td>\n",
       "    </tr>\n",
       "  </tbody>\n",
       "</table>\n",
       "</div>"
      ],
      "text/plain": [
       "   Unnamed: 0         Y      Time  Group\n",
       "0           0 -0.232900 -1.193204      0\n",
       "1           1  2.848846 -1.607748      1\n",
       "2           2  0.550209 -0.269793      0\n",
       "3           3  2.198280  7.743730      0\n",
       "4           4  4.111044 -4.244359      1"
      ]
     },
     "execution_count": 2,
     "metadata": {},
     "output_type": "execute_result"
    }
   ],
   "source": [
    "df_1 = pd.read_csv(\"homework_12.1.csv\")\n",
    "df_1.head(5)"
   ]
  },
  {
   "cell_type": "code",
   "execution_count": 3,
   "id": "9f9dba16",
   "metadata": {},
   "outputs": [
    {
     "data": {
      "text/html": [
       "<table class=\"simpletable\">\n",
       "<tr>\n",
       "      <td></td>         <th>coef</th>     <th>std err</th>      <th>t</th>      <th>P>|t|</th>  <th>[0.025</th>    <th>0.975]</th>  \n",
       "</tr>\n",
       "<tr>\n",
       "  <th>Intercept</th> <td>    0.9802</td> <td>    0.016</td> <td>   61.953</td> <td> 0.000</td> <td>    0.949</td> <td>    1.011</td>\n",
       "</tr>\n",
       "<tr>\n",
       "  <th>treated</th>   <td>    2.0420</td> <td>    0.036</td> <td>   56.304</td> <td> 0.000</td> <td>    1.971</td> <td>    2.113</td>\n",
       "</tr>\n",
       "<tr>\n",
       "  <th>post</th>      <td>    1.5130</td> <td>    0.022</td> <td>   67.722</td> <td> 0.000</td> <td>    1.469</td> <td>    1.557</td>\n",
       "</tr>\n",
       "<tr>\n",
       "  <th>did</th>       <td>    0.9440</td> <td>    0.051</td> <td>   18.620</td> <td> 0.000</td> <td>    0.845</td> <td>    1.043</td>\n",
       "</tr>\n",
       "</table>"
      ],
      "text/latex": [
       "\\begin{center}\n",
       "\\begin{tabular}{lcccccc}\n",
       "\\toprule\n",
       "                   & \\textbf{coef} & \\textbf{std err} & \\textbf{t} & \\textbf{P$> |$t$|$} & \\textbf{[0.025} & \\textbf{0.975]}  \\\\\n",
       "\\midrule\n",
       "\\textbf{Intercept} &       0.9802  &        0.016     &    61.953  &         0.000        &        0.949    &        1.011     \\\\\n",
       "\\textbf{treated}   &       2.0420  &        0.036     &    56.304  &         0.000        &        1.971    &        2.113     \\\\\n",
       "\\textbf{post}      &       1.5130  &        0.022     &    67.722  &         0.000        &        1.469    &        1.557     \\\\\n",
       "\\textbf{did}       &       0.9440  &        0.051     &    18.620  &         0.000        &        0.845    &        1.043     \\\\\n",
       "\\bottomrule\n",
       "\\end{tabular}\n",
       "\\end{center}"
      ],
      "text/plain": [
       "<class 'statsmodels.iolib.table.SimpleTable'>"
      ]
     },
     "execution_count": 3,
     "metadata": {},
     "output_type": "execute_result"
    }
   ],
   "source": [
    "df_1[\"treated\"] = (df_1['Group']==1).astype(int)\n",
    "df_1[\"post\"] = (df_1[\"Time\"] > 0).astype(int)\n",
    "df_1[\"did\"] = df_1[\"treated\"] * df_1[\"post\"]\n",
    "\n",
    "model = smf.ols(\"Y~treated + post + did\", data = df_1).fit()\n",
    "model.summary().tables[1]"
   ]
  },
  {
   "cell_type": "code",
   "execution_count": 4,
   "id": "461d26b7",
   "metadata": {},
   "outputs": [
    {
     "data": {
      "text/html": [
       "<div>\n",
       "<style scoped>\n",
       "    .dataframe tbody tr th:only-of-type {\n",
       "        vertical-align: middle;\n",
       "    }\n",
       "\n",
       "    .dataframe tbody tr th {\n",
       "        vertical-align: top;\n",
       "    }\n",
       "\n",
       "    .dataframe thead th {\n",
       "        text-align: right;\n",
       "    }\n",
       "</style>\n",
       "<table border=\"1\" class=\"dataframe\">\n",
       "  <thead>\n",
       "    <tr style=\"text-align: right;\">\n",
       "      <th></th>\n",
       "      <th>Unnamed: 0</th>\n",
       "      <th>Y</th>\n",
       "      <th>Time</th>\n",
       "      <th>Group</th>\n",
       "    </tr>\n",
       "  </thead>\n",
       "  <tbody>\n",
       "    <tr>\n",
       "      <th>0</th>\n",
       "      <td>0</td>\n",
       "      <td>0.283614</td>\n",
       "      <td>-3.614416</td>\n",
       "      <td>0</td>\n",
       "    </tr>\n",
       "    <tr>\n",
       "      <th>1</th>\n",
       "      <td>1</td>\n",
       "      <td>3.181495</td>\n",
       "      <td>-3.064196</td>\n",
       "      <td>0</td>\n",
       "    </tr>\n",
       "    <tr>\n",
       "      <th>2</th>\n",
       "      <td>2</td>\n",
       "      <td>1.401619</td>\n",
       "      <td>-4.109261</td>\n",
       "      <td>0</td>\n",
       "    </tr>\n",
       "    <tr>\n",
       "      <th>3</th>\n",
       "      <td>3</td>\n",
       "      <td>2.019632</td>\n",
       "      <td>-0.706696</td>\n",
       "      <td>1</td>\n",
       "    </tr>\n",
       "    <tr>\n",
       "      <th>4</th>\n",
       "      <td>4</td>\n",
       "      <td>1.032628</td>\n",
       "      <td>-1.806227</td>\n",
       "      <td>0</td>\n",
       "    </tr>\n",
       "  </tbody>\n",
       "</table>\n",
       "</div>"
      ],
      "text/plain": [
       "   Unnamed: 0         Y      Time  Group\n",
       "0           0  0.283614 -3.614416      0\n",
       "1           1  3.181495 -3.064196      0\n",
       "2           2  1.401619 -4.109261      0\n",
       "3           3  2.019632 -0.706696      1\n",
       "4           4  1.032628 -1.806227      0"
      ]
     },
     "execution_count": 4,
     "metadata": {},
     "output_type": "execute_result"
    }
   ],
   "source": [
    "df_2 = pd.read_csv(\"homework_12.2.csv\")\n",
    "df_2.head(5)"
   ]
  },
  {
   "cell_type": "code",
   "execution_count": 5,
   "id": "160c67c4",
   "metadata": {},
   "outputs": [
    {
     "data": {
      "text/plain": [
       "np.float64(5.329379663924038)"
      ]
     },
     "execution_count": 5,
     "metadata": {},
     "output_type": "execute_result"
    }
   ],
   "source": [
    "# q2\n",
    "# Filter data before treatment (Time < 0)\n",
    "df_pre = df_2[df_2[\"Time\"] < 0].copy()\n",
    "# interaction term\n",
    "df_pre[\"interaction\"] = df_pre[\"Group\"] * df_pre[\"Time\"]\n",
    "\n",
    "model = smf.ols(\"Y~Group + Time + interaction\", data=df_pre).fit()\n",
    "t_value = model.tvalues[\"interaction\"]\n",
    "t_value\n"
   ]
  },
  {
   "cell_type": "code",
   "execution_count": 6,
   "id": "588f0d7a",
   "metadata": {},
   "outputs": [
    {
     "data": {
      "text/plain": [
       "np.float64(0.021381920494109592)"
      ]
     },
     "execution_count": 6,
     "metadata": {},
     "output_type": "execute_result"
    }
   ],
   "source": [
    "# q3\n",
    "import numpy as np\n",
    "import statsmodels.api as sm\n",
    "def generate_ar1_errors(n, rho, std=1):\n",
    "    errors = np.zeros(n)\n",
    "    errors[0] = np.random.normal(0, std)\n",
    "    for t in range(1, n):\n",
    "        errors[t] = rho * errors[t-1] + np.random.normal(0, np.sqrt(1 - rho ** 2) * std)\n",
    "    return errors\n",
    "\n",
    "n = 10000\n",
    "rho = 0.8\n",
    "std = 1\n",
    "n_simulations = 200\n",
    "X_sample = generate_ar1_errors(n, rho, std)\n",
    "noise_sample = generate_ar1_errors(n, rho, std)\n",
    "Y_sample = 2 * X_sample + noise_sample\n",
    "\n",
    "X_const = sm.add_constant(X_sample)\n",
    "model_sample =  sm.OLS(Y_sample, X_const).fit()\n",
    "basic_se = model_sample.bse[1]\n",
    "\n",
    "# simulationi to estimate std of coefficient estimates\n",
    "coef_estimates = []\n",
    "for _ in range(n_simulations):\n",
    "    X = generate_ar1_errors(n, rho, std)\n",
    "    noise = generate_ar1_errors(n, rho, std)\n",
    "    Y = 2 * X + noise\n",
    "    X_const = sm.add_constant(X)\n",
    "    model = sm.OLS(Y, X_const).fit()\n",
    "    coef_estimates.append(model.params[1])\n",
    "\n",
    "simulated_se=np.std(coef_estimates)\n",
    "simulated_se\n"
   ]
  },
  {
   "cell_type": "code",
   "execution_count": 11,
   "id": "5c0cf114",
   "metadata": {},
   "outputs": [
    {
     "name": "stdout",
     "output_type": "stream",
     "text": [
      "1.9783742480901254\n"
     ]
    }
   ],
   "source": [
    "np.random.seed(0)\n",
    "X1 = np.random.normal(0, 1, 1000)\n",
    "X2 = np.random.normal(0, 1, 1000) + X1\n",
    "X3 = np.random.normal(0, 1, 1000) + 2 * X2\n",
    "\n",
    "X_ = np.column_stack([X2, X3])\n",
    "X_ = sm.add_constant(X_)\n",
    "model = sm.OLS(X1, X_).fit()\n",
    "R2 = model.rsquared\n",
    "VIF = 1/(1-R2)\n",
    "print(VIF)\n"
   ]
  }
 ],
 "metadata": {
  "kernelspec": {
   "display_name": "Python 3",
   "language": "python",
   "name": "python3"
  },
  "language_info": {
   "codemirror_mode": {
    "name": "ipython",
    "version": 3
   },
   "file_extension": ".py",
   "mimetype": "text/x-python",
   "name": "python",
   "nbconvert_exporter": "python",
   "pygments_lexer": "ipython3",
   "version": "3.12.1"
  }
 },
 "nbformat": 4,
 "nbformat_minor": 5
}
