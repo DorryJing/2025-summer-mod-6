{
 "cells": [
  {
   "cell_type": "code",
   "execution_count": 2,
   "id": "a205ddc2",
   "metadata": {},
   "outputs": [],
   "source": [
    "from sklearn.linear_model import LinearRegression\n",
    "import pandas as pd\n",
    "import numpy as np"
   ]
  },
  {
   "cell_type": "code",
   "execution_count": 3,
   "id": "9937e9fe",
   "metadata": {},
   "outputs": [
    {
     "data": {
      "text/html": [
       "<div>\n",
       "<style scoped>\n",
       "    .dataframe tbody tr th:only-of-type {\n",
       "        vertical-align: middle;\n",
       "    }\n",
       "\n",
       "    .dataframe tbody tr th {\n",
       "        vertical-align: top;\n",
       "    }\n",
       "\n",
       "    .dataframe thead th {\n",
       "        text-align: right;\n",
       "    }\n",
       "</style>\n",
       "<table border=\"1\" class=\"dataframe\">\n",
       "  <thead>\n",
       "    <tr style=\"text-align: right;\">\n",
       "      <th></th>\n",
       "      <th>Unnamed: 0</th>\n",
       "      <th>time</th>\n",
       "      <th>G1</th>\n",
       "      <th>G2</th>\n",
       "      <th>G3</th>\n",
       "    </tr>\n",
       "  </thead>\n",
       "  <tbody>\n",
       "    <tr>\n",
       "      <th>0</th>\n",
       "      <td>0</td>\n",
       "      <td>0</td>\n",
       "      <td>0.882026</td>\n",
       "      <td>1.441575</td>\n",
       "      <td>0.065409</td>\n",
       "    </tr>\n",
       "    <tr>\n",
       "      <th>1</th>\n",
       "      <td>1</td>\n",
       "      <td>1</td>\n",
       "      <td>0.210079</td>\n",
       "      <td>-0.163880</td>\n",
       "      <td>0.140310</td>\n",
       "    </tr>\n",
       "    <tr>\n",
       "      <th>2</th>\n",
       "      <td>2</td>\n",
       "      <td>2</td>\n",
       "      <td>0.509369</td>\n",
       "      <td>-0.115242</td>\n",
       "      <td>0.819830</td>\n",
       "    </tr>\n",
       "    <tr>\n",
       "      <th>3</th>\n",
       "      <td>3</td>\n",
       "      <td>3</td>\n",
       "      <td>1.150447</td>\n",
       "      <td>1.014698</td>\n",
       "      <td>0.607632</td>\n",
       "    </tr>\n",
       "    <tr>\n",
       "      <th>4</th>\n",
       "      <td>4</td>\n",
       "      <td>4</td>\n",
       "      <td>0.973779</td>\n",
       "      <td>-0.046562</td>\n",
       "      <td>0.610066</td>\n",
       "    </tr>\n",
       "  </tbody>\n",
       "</table>\n",
       "</div>"
      ],
      "text/plain": [
       "   Unnamed: 0  time        G1        G2        G3\n",
       "0           0     0  0.882026  1.441575  0.065409\n",
       "1           1     1  0.210079 -0.163880  0.140310\n",
       "2           2     2  0.509369 -0.115242  0.819830\n",
       "3           3     3  1.150447  1.014698  0.607632\n",
       "4           4     4  0.973779 -0.046562  0.610066"
      ]
     },
     "execution_count": 3,
     "metadata": {},
     "output_type": "execute_result"
    }
   ],
   "source": [
    "df_1 = pd.read_csv(\"homework_2.1.csv\")\n",
    "df_1.head()"
   ]
  },
  {
   "cell_type": "code",
   "execution_count": 4,
   "id": "5d9bb206",
   "metadata": {},
   "outputs": [
    {
     "name": "stdout",
     "output_type": "stream",
     "text": [
      "G1 time coefficient: 0.008498349168608876\n"
     ]
    }
   ],
   "source": [
    "X = df_1[[\"time\"]]\n",
    "y = df_1[\"G1\"]\n",
    "\n",
    "lr = LinearRegression()\n",
    "lr.fit(X, y)\n",
    "\n",
    "\n",
    "print(\"G1 time coefficient:\", lr.coef_[0])"
   ]
  },
  {
   "cell_type": "code",
   "execution_count": 5,
   "id": "01aca37f",
   "metadata": {},
   "outputs": [
    {
     "name": "stdout",
     "output_type": "stream",
     "text": [
      "Time coefficient: 0.009017213376459327\n"
     ]
    }
   ],
   "source": [
    "df_long = df_1.melt(id_vars=[\"time\"], value_vars=[\"G1\", \"G2\", \"G3\"],\n",
    "                  var_name=\"group\", value_name=\"outcome\")\n",
    "\n",
    "\n",
    "df_long = pd.get_dummies(df_long, columns=[\"group\"], drop_first=False)\n",
    "\n",
    "X = df_long[[\"time\", \"group_G1\", \"group_G2\", \"group_G3\"]]\n",
    "y = df_long[\"outcome\"]\n",
    "\n",
    "\n",
    "lr = LinearRegression()\n",
    "lr.fit(X, y)\n",
    "\n",
    "print(\"Time coefficient:\", lr.coef_[0])"
   ]
  },
  {
   "cell_type": "code",
   "execution_count": 6,
   "id": "10da9951",
   "metadata": {},
   "outputs": [
    {
     "data": {
      "text/html": [
       "<div>\n",
       "<style scoped>\n",
       "    .dataframe tbody tr th:only-of-type {\n",
       "        vertical-align: middle;\n",
       "    }\n",
       "\n",
       "    .dataframe tbody tr th {\n",
       "        vertical-align: top;\n",
       "    }\n",
       "\n",
       "    .dataframe thead th {\n",
       "        text-align: right;\n",
       "    }\n",
       "</style>\n",
       "<table border=\"1\" class=\"dataframe\">\n",
       "  <thead>\n",
       "    <tr style=\"text-align: right;\">\n",
       "      <th></th>\n",
       "      <th>Unnamed: 0</th>\n",
       "      <th>X</th>\n",
       "      <th>Y</th>\n",
       "      <th>Z</th>\n",
       "    </tr>\n",
       "  </thead>\n",
       "  <tbody>\n",
       "    <tr>\n",
       "      <th>0</th>\n",
       "      <td>0</td>\n",
       "      <td>0</td>\n",
       "      <td>1.182435</td>\n",
       "      <td>-0.725820</td>\n",
       "    </tr>\n",
       "    <tr>\n",
       "      <th>1</th>\n",
       "      <td>1</td>\n",
       "      <td>0</td>\n",
       "      <td>2.714474</td>\n",
       "      <td>0.563476</td>\n",
       "    </tr>\n",
       "    <tr>\n",
       "      <th>2</th>\n",
       "      <td>2</td>\n",
       "      <td>0</td>\n",
       "      <td>0.077612</td>\n",
       "      <td>-0.435632</td>\n",
       "    </tr>\n",
       "    <tr>\n",
       "      <th>3</th>\n",
       "      <td>3</td>\n",
       "      <td>0</td>\n",
       "      <td>-0.154449</td>\n",
       "      <td>-0.104553</td>\n",
       "    </tr>\n",
       "    <tr>\n",
       "      <th>4</th>\n",
       "      <td>4</td>\n",
       "      <td>0</td>\n",
       "      <td>22.298992</td>\n",
       "      <td>-2.321273</td>\n",
       "    </tr>\n",
       "    <tr>\n",
       "      <th>5</th>\n",
       "      <td>5</td>\n",
       "      <td>0</td>\n",
       "      <td>-0.199007</td>\n",
       "      <td>-0.214094</td>\n",
       "    </tr>\n",
       "    <tr>\n",
       "      <th>6</th>\n",
       "      <td>6</td>\n",
       "      <td>0</td>\n",
       "      <td>2.563258</td>\n",
       "      <td>0.543405</td>\n",
       "    </tr>\n",
       "    <tr>\n",
       "      <th>7</th>\n",
       "      <td>7</td>\n",
       "      <td>1</td>\n",
       "      <td>3.369376</td>\n",
       "      <td>-0.537454</td>\n",
       "    </tr>\n",
       "    <tr>\n",
       "      <th>8</th>\n",
       "      <td>8</td>\n",
       "      <td>1</td>\n",
       "      <td>2.962496</td>\n",
       "      <td>-0.380275</td>\n",
       "    </tr>\n",
       "    <tr>\n",
       "      <th>9</th>\n",
       "      <td>9</td>\n",
       "      <td>0</td>\n",
       "      <td>0.883325</td>\n",
       "      <td>0.265473</td>\n",
       "    </tr>\n",
       "  </tbody>\n",
       "</table>\n",
       "</div>"
      ],
      "text/plain": [
       "   Unnamed: 0  X          Y         Z\n",
       "0           0  0   1.182435 -0.725820\n",
       "1           1  0   2.714474  0.563476\n",
       "2           2  0   0.077612 -0.435632\n",
       "3           3  0  -0.154449 -0.104553\n",
       "4           4  0  22.298992 -2.321273\n",
       "5           5  0  -0.199007 -0.214094\n",
       "6           6  0   2.563258  0.543405\n",
       "7           7  1   3.369376 -0.537454\n",
       "8           8  1   2.962496 -0.380275\n",
       "9           9  0   0.883325  0.265473"
      ]
     },
     "execution_count": 6,
     "metadata": {},
     "output_type": "execute_result"
    }
   ],
   "source": [
    "df_2 = pd.read_csv(\"homework_2.2.csv\")\n",
    "df_2.head(10)"
   ]
  },
  {
   "cell_type": "code",
   "execution_count": 7,
   "id": "7d630572",
   "metadata": {},
   "outputs": [
    {
     "name": "stdout",
     "output_type": "stream",
     "text": [
      "Bootstrap mean treatment effect: 2.9207891225431184\n",
      "95% Confidence Interval: (np.float64(2.5782868881023484), np.float64(3.282700281917396))\n"
     ]
    }
   ],
   "source": [
    "np.random.seed(42)\n",
    "\n",
    "\n",
    "n_bootstrap = 1000\n",
    "bootstrap_effects = []\n",
    "\n",
    "# Bootstrap sampling loop\n",
    "for _ in range(n_bootstrap):\n",
    "    sample = df_2.sample(frac=1, replace=True)  # resample with replacement\n",
    "    treated_mean = sample[sample[\"X\"] == 1][\"Y\"].mean()\n",
    "    untreated_mean = sample[sample[\"X\"] == 0][\"Y\"].mean()\n",
    "    bootstrap_effects.append(treated_mean - untreated_mean)\n",
    "\n",
    "# Compute statistics\n",
    "bootstrap_mean = np.mean(bootstrap_effects)\n",
    "lower_ci = np.percentile(bootstrap_effects, 2.5)\n",
    "upper_ci = np.percentile(bootstrap_effects, 97.5)\n",
    "\n",
    "# Print results\n",
    "print(\"Bootstrap mean treatment effect:\", bootstrap_mean)\n",
    "print(\"95% Confidence Interval:\", (lower_ci, upper_ci))"
   ]
  },
  {
   "cell_type": "code",
   "execution_count": null,
   "id": "fb273bfc",
   "metadata": {},
   "outputs": [
    {
     "name": "stdout",
     "output_type": "stream",
     "text": [
      "Bootstrap variance of treatment effect: 0.031233406175477617\n"
     ]
    }
   ],
   "source": [
    "bootstrap_variance = np.var(bootstrap_effects, ddof=1) \n",
    "print(\"Bootstrap variance of treatment effect:\", bootstrap_variance)\n"
   ]
  },
  {
   "cell_type": "code",
   "execution_count": 9,
   "id": "09144a25",
   "metadata": {},
   "outputs": [
    {
     "name": "stdout",
     "output_type": "stream",
     "text": [
      "Bootstrap skewness of treatment effect: 0.08723377108630882\n"
     ]
    }
   ],
   "source": [
    "from scipy.stats import skew\n",
    "\n",
    "bootstrap_skewness = skew(bootstrap_effects)\n",
    "print(\"Bootstrap skewness of treatment effect:\", bootstrap_skewness)\n"
   ]
  },
  {
   "cell_type": "code",
   "execution_count": null,
   "id": "31c8fb28",
   "metadata": {},
   "outputs": [
    {
     "name": "stdout",
     "output_type": "stream",
     "text": [
      "Sample size: 10, Variance of mean: 0.148816\n",
      "Sample size: 50, Variance of mean: 0.023656\n",
      "Sample size: 100, Variance of mean: 0.017977\n",
      "Sample size: 500, Variance of mean: 0.007589\n",
      "Sample size: 1000, Variance of mean: 0.009107\n"
     ]
    },
    {
     "data": {
      "image/png": "[encoded data removed]",
      "text/plain": [
       "<Figure size 640x480 with 1 Axes>"
      ]
     },
     "metadata": {},
     "output_type": "display_data"
    }
   ],
   "source": [
    "# week 2 reflection\n",
    "import matplotlib.pyplot as plt\n",
    "\n",
    "def bootstrap_mean_variance(distribution_func, sample_size, n_bootstrap=1000, **dist_params):\n",
    "    np.random.seed(0)\n",
    "    full_sample = distribution_func(size=sample_size, **dist_params)\n",
    "    \n",
    "    bootstrap_means = []\n",
    "    for _ in range(n_bootstrap):\n",
    "        resample = np.random.choice(full_sample, size=sample_size, replace=True)\n",
    "        bootstrap_means.append(np.mean(resample))\n",
    "\n",
    "    return np.var(bootstrap_means, ddof=1)\n",
    "\n",
    "sample_sizes = [10, 50, 100, 500, 1000]\n",
    "variances = []\n",
    "\n",
    "for n in sample_sizes:\n",
    "    var = bootstrap_mean_variance(np.random.pareto, sample_size=n, a=2.0)  # Pareto shape parameter a > 1 for mean to exist\n",
    "    variances.append(var)\n",
    "    print(f\"Sample size: {n}, Variance of mean: {var:.6f}\")\n",
    "\n",
    "# Plot the results\n",
    "plt.plot(sample_sizes, variances, marker='o')\n",
    "plt.xlabel('Sample Size')\n",
    "plt.ylabel('Variance of Sample Mean (Bootstrap)')\n",
    "plt.title('Variance of Mean vs. Sample Size (Pareto Distribution)')\n",
    "plt.grid(True)\n",
    "plt.show()\n"
   ]
  }
 ],
 "metadata": {
  "kernelspec": {
   "display_name": "Python 3",
   "language": "python",
   "name": "python3"
  },
  "language_info": {
   "codemirror_mode": {
    "name": "ipython",
    "version": 3
   },
   "file_extension": ".py",
   "mimetype": "text/x-python",
   "name": "python",
   "nbconvert_exporter": "python",
   "pygments_lexer": "ipython3",
   "version": "3.12.1"
  }
 },
 "nbformat": 4,
 "nbformat_minor": 5
}
